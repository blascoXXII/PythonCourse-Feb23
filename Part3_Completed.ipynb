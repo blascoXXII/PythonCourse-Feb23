{
 "cells": [
  {
   "cell_type": "markdown",
   "id": "concrete-scratch",
   "metadata": {},
   "source": [
    "# Part 3: Classes\n",
    "\n",
    "<img src=\"https://upload.wikimedia.org/wikipedia/commons/thumb/0/0a/Python.svg/800px-Python.svg.png\" alt=\"drawing\" width=\"250\"/>\n"
   ]
  },
  {
   "cell_type": "markdown",
   "id": "convertible-while",
   "metadata": {},
   "source": [
    "## 3. 1 Classes\n",
    "\n",
    "Until now, we have used many of Python's built-in types: integers, booleans, lists, dictionaries... Like functions, we can also defined our own classes. Thayt's important because Python is an *object-oriented programming* (OOP), that means that it organizes code and data with user-defined types.\n",
    "\n",
    "Classes are based on two main concepts:\n",
    "\n",
    "- Attributes: Class attributes are class variables that are inherited by every object of a class. The value of class attributes remain the same for every new object. Similar to variables defined inside functions, but attributes can be called outside the class. \n",
    "- Methods: Methods are functions that are associated with a particular class. Think for example in `list.append()`.\n",
    "\n",
    "\n",
    "### 3.1.1 Define new class\n",
    "\n",
    "To define a new class whe need to use the keyword *class* followed by the name of the class. Then we can start adding attributes and methods. Inside the class statement we will can define attributes like we define variables (with *=* statement) and methods like we define functions (*def* statement). That means that it is **mutable**.\n",
    "\n",
    "For methods, we can use ***self*** argument to indicate that the method takes the object itself as parameter. Then, inside the method we can call the attributes by using `self.attribute_name`"
   ]
  },
  {
   "cell_type": "code",
   "execution_count": 13,
   "id": "furnished-coupon",
   "metadata": {},
   "outputs": [
    {
     "name": "stdout",
     "output_type": "stream",
     "text": [
      "<__main__.Rectangle object at 0x7ff789886610>\n",
      "20\n"
     ]
    }
   ],
   "source": [
    "class Rectangle:\n",
    "    #Represents a 4x5 rectangle\n",
    "    length = 4\n",
    "    width = 5\n",
    "    \n",
    "    def compute_area(self):\n",
    "        return self.length * self.width\n",
    "        \n",
    "\n",
    "r = Rectangle()\n",
    "print(r)\n",
    "area = r.compute_area()\n",
    "print(area)"
   ]
  },
  {
   "cell_type": "code",
   "execution_count": 16,
   "id": "9f68f822",
   "metadata": {},
   "outputs": [],
   "source": [
    "r = Rectangle()"
   ]
  },
  {
   "cell_type": "code",
   "execution_count": 14,
   "id": "pressing-accounting",
   "metadata": {},
   "outputs": [
    {
     "name": "stdout",
     "output_type": "stream",
     "text": [
      "50\n"
     ]
    }
   ],
   "source": [
    "# We can modify object's attributes by a regular asignment state\n",
    "r.length = 10\n",
    "area = r.compute_area()\n",
    "print(area)"
   ]
  },
  {
   "cell_type": "code",
   "execution_count": 3,
   "id": "ca374302",
   "metadata": {},
   "outputs": [],
   "source": [
    "#We can also add new attributes\n",
    "r.new_attribute = 1\n",
    "\n",
    "#or\n",
    "\n",
    "setattr(r, \"new_attribute2\", 4)"
   ]
  },
  {
   "cell_type": "markdown",
   "id": "phantom-horizon",
   "metadata": {},
   "source": [
    "### 3.1.2 Operator Overloading\n",
    "\n",
    "Operator overloading is when you change the behaviour of an operator (like `print()` or `+`). Basically, for every operator there is a special method, we're not going to cover all of them, but you can check the complete list [here](https://docs.python.org/3/reference/datamodel.html#specialnames).\n",
    "\n",
    "#### 3.1.2.1 *init* method\n",
    "\n",
    "The *init* method (short for \"initialization\") is a special method that gets invoked when an object is instantiated (created). This method is usually used to assign values to parameters at the moment you create them (instead of assigning them after, like we did before).\n",
    "\n",
    "It is a common practice for the parameters of *__init__* to have the **same names** as the attributes."
   ]
  },
  {
   "cell_type": "code",
   "execution_count": 20,
   "id": "thick-grounds",
   "metadata": {},
   "outputs": [
    {
     "name": "stdout",
     "output_type": "stream",
     "text": [
      "<__main__.Rectangle object at 0x00000257DEDC4B48>\n",
      "9\n"
     ]
    }
   ],
   "source": [
    "class Rectangle:\n",
    "    \n",
    "    def __init__(self, length=4, width=5):\n",
    "        \n",
    "        self.length = length\n",
    "        self.width = width\n",
    "        \n",
    "    def compute_area(self):\n",
    "        return self.length * self.width\n",
    "    \n",
    "r = Rectangle(3,3)\n",
    "print(r)\n",
    "area = r.compute_area()\n",
    "print(area)"
   ]
  },
  {
   "cell_type": "markdown",
   "id": "acquired-meaning",
   "metadata": {},
   "source": [
    "#### 3.1.2.2 *str* method\n",
    "\n",
    "The *__str__* method is another special method that is supposed to return a string representation of an object. Is specially useful if you want to make your object printable or convertible to string."
   ]
  },
  {
   "cell_type": "code",
   "execution_count": 21,
   "id": "residential-sentence",
   "metadata": {},
   "outputs": [
    {
     "data": {
      "text/plain": [
       "'<__main__.Rectangle object at 0x00000257DEDC4B48>'"
      ]
     },
     "execution_count": 21,
     "metadata": {},
     "output_type": "execute_result"
    }
   ],
   "source": [
    "str(r)"
   ]
  },
  {
   "cell_type": "code",
   "execution_count": 26,
   "id": "exceptional-peoples",
   "metadata": {
    "scrolled": true
   },
   "outputs": [
    {
     "name": "stdout",
     "output_type": "stream",
     "text": [
      "Rectangle of 3x3 cm\n",
      "9\n"
     ]
    }
   ],
   "source": [
    "class Rectangle:\n",
    "    \n",
    "    def __init__(self, length=4, width=5):\n",
    "        \n",
    "        #Length and width of the rectangle in cm\n",
    "        \n",
    "        self.length = length\n",
    "        self.width = width\n",
    "        \n",
    "    def compute_area(self):\n",
    "        return self.length * self.width\n",
    "    \n",
    "    def __str__(self):\n",
    "        return \"Rectangle of {}x{} cm\".format(self.length, self.width)\n",
    "    \n",
    "r = Rectangle(3,3)\n",
    "print(r)\n",
    "area = r.compute_area()\n",
    "print(area)"
   ]
  },
  {
   "cell_type": "markdown",
   "id": "sufficient-beaver",
   "metadata": {},
   "source": [
    "#### 3.1.2.3 *add* method\n",
    "\n",
    "The *__add__* method is another special method that allows to use the `+`."
   ]
  },
  {
   "cell_type": "code",
   "execution_count": 31,
   "id": "favorite-consensus",
   "metadata": {},
   "outputs": [
    {
     "data": {
      "text/plain": [
       "22"
      ]
     },
     "execution_count": 31,
     "metadata": {},
     "output_type": "execute_result"
    }
   ],
   "source": [
    "class Rectangle:\n",
    "    \n",
    "    def __init__(self, length=4, width=5):\n",
    "        \n",
    "        #Length and width of the rectangle in cm\n",
    "        \n",
    "        self.length = length\n",
    "        self.width = width\n",
    "        \n",
    "    def compute_area(self):\n",
    "        return self.length * self.width\n",
    "    \n",
    "    def __str__(self):\n",
    "        return \"Rectangle of {}x{} cm\".format(self.length, self.width)\n",
    "    \n",
    "    def __add__(self, other):\n",
    "        #Sum rectangles' perimeters\n",
    "        rectangle_sum = 2*(self.width + self.length + other.width + other.length)\n",
    "        \n",
    "        return rectangle_sum\n",
    "    \n",
    "\n",
    "    \n",
    "r1 = Rectangle(3,3)\n",
    "r2 = Rectangle(4,1)\n",
    "r1+r2"
   ]
  },
  {
   "cell_type": "markdown",
   "id": "soviet-lloyd",
   "metadata": {},
   "source": [
    "But what if we also want to use `+` with an *int* variable? Then we would need to edit the function by adding a conditional based on object type (**type-based dispatch**).\n",
    "\n",
    "To do that we can use the *built-in* function `isinstance(n, t)` which takes a variable (*n*) and a variable type (*t*) and returns True if the variable's type is the specified type, otherwise returns False.\n",
    "\n",
    "**Note**: An instance is an object that belongs to a class. So when we refern to the creation a new object as **instantiatiation**"
   ]
  },
  {
   "cell_type": "code",
   "execution_count": 32,
   "id": "fiscal-projector",
   "metadata": {},
   "outputs": [
    {
     "ename": "AttributeError",
     "evalue": "'int' object has no attribute 'width'",
     "output_type": "error",
     "traceback": [
      "\u001b[1;31m---------------------------------------------------------------------------\u001b[0m",
      "\u001b[1;31mAttributeError\u001b[0m                            Traceback (most recent call last)",
      "\u001b[1;32m<ipython-input-32-1f993c832b14>\u001b[0m in \u001b[0;36m<module>\u001b[1;34m\u001b[0m\n\u001b[1;32m----> 1\u001b[1;33m \u001b[0mr1\u001b[0m\u001b[1;33m+\u001b[0m\u001b[1;36m5\u001b[0m\u001b[1;33m\u001b[0m\u001b[1;33m\u001b[0m\u001b[0m\n\u001b[0m",
      "\u001b[1;32m<ipython-input-31-7a257867f570>\u001b[0m in \u001b[0;36m__add__\u001b[1;34m(self, other)\u001b[0m\n\u001b[0;32m     16\u001b[0m     \u001b[1;32mdef\u001b[0m \u001b[0m__add__\u001b[0m\u001b[1;33m(\u001b[0m\u001b[0mself\u001b[0m\u001b[1;33m,\u001b[0m \u001b[0mother\u001b[0m\u001b[1;33m)\u001b[0m\u001b[1;33m:\u001b[0m\u001b[1;33m\u001b[0m\u001b[1;33m\u001b[0m\u001b[0m\n\u001b[0;32m     17\u001b[0m         \u001b[1;31m#Sum rectangles' perimeters\u001b[0m\u001b[1;33m\u001b[0m\u001b[1;33m\u001b[0m\u001b[1;33m\u001b[0m\u001b[0m\n\u001b[1;32m---> 18\u001b[1;33m         \u001b[0mrectangle_sum\u001b[0m \u001b[1;33m=\u001b[0m \u001b[1;36m2\u001b[0m\u001b[1;33m*\u001b[0m\u001b[1;33m(\u001b[0m\u001b[0mself\u001b[0m\u001b[1;33m.\u001b[0m\u001b[0mwidth\u001b[0m \u001b[1;33m+\u001b[0m \u001b[0mself\u001b[0m\u001b[1;33m.\u001b[0m\u001b[0mlength\u001b[0m \u001b[1;33m+\u001b[0m \u001b[0mother\u001b[0m\u001b[1;33m.\u001b[0m\u001b[0mwidth\u001b[0m \u001b[1;33m+\u001b[0m \u001b[0mother\u001b[0m\u001b[1;33m.\u001b[0m\u001b[0mlength\u001b[0m\u001b[1;33m)\u001b[0m\u001b[1;33m\u001b[0m\u001b[1;33m\u001b[0m\u001b[0m\n\u001b[0m\u001b[0;32m     19\u001b[0m \u001b[1;33m\u001b[0m\u001b[0m\n\u001b[0;32m     20\u001b[0m         \u001b[1;32mreturn\u001b[0m \u001b[0mrectangle_sum\u001b[0m\u001b[1;33m\u001b[0m\u001b[1;33m\u001b[0m\u001b[0m\n",
      "\u001b[1;31mAttributeError\u001b[0m: 'int' object has no attribute 'width'"
     ]
    }
   ],
   "source": [
    "r1+5"
   ]
  },
  {
   "cell_type": "code",
   "execution_count": 36,
   "id": "interior-miracle",
   "metadata": {},
   "outputs": [
    {
     "data": {
      "text/plain": [
       "True"
      ]
     },
     "execution_count": 36,
     "metadata": {},
     "output_type": "execute_result"
    }
   ],
   "source": [
    "isinstance(1, int)"
   ]
  },
  {
   "cell_type": "code",
   "execution_count": 37,
   "id": "broken-venezuela",
   "metadata": {},
   "outputs": [
    {
     "data": {
      "text/plain": [
       "False"
      ]
     },
     "execution_count": 37,
     "metadata": {},
     "output_type": "execute_result"
    }
   ],
   "source": [
    "isinstance(1, float)"
   ]
  },
  {
   "cell_type": "code",
   "execution_count": 38,
   "id": "retired-lobby",
   "metadata": {},
   "outputs": [
    {
     "data": {
      "text/plain": [
       "False"
      ]
     },
     "execution_count": 38,
     "metadata": {},
     "output_type": "execute_result"
    }
   ],
   "source": [
    "isinstance(r1, float)"
   ]
  },
  {
   "cell_type": "code",
   "execution_count": 44,
   "id": "coordinate-gazette",
   "metadata": {},
   "outputs": [
    {
     "data": {
      "text/plain": [
       "True"
      ]
     },
     "execution_count": 44,
     "metadata": {},
     "output_type": "execute_result"
    }
   ],
   "source": [
    "isinstance(r1, Rectangle)"
   ]
  },
  {
   "cell_type": "code",
   "execution_count": 46,
   "id": "silent-event",
   "metadata": {},
   "outputs": [
    {
     "data": {
      "text/plain": [
       "True"
      ]
     },
     "execution_count": 46,
     "metadata": {},
     "output_type": "execute_result"
    }
   ],
   "source": [
    "isinstance(r1, type(r2))"
   ]
  },
  {
   "cell_type": "code",
   "execution_count": 2,
   "id": "indian-deposit",
   "metadata": {},
   "outputs": [],
   "source": [
    "class Rectangle:\n",
    "    \n",
    "    def __init__(self, length=4, width=5):\n",
    "        \n",
    "        #Length and width of the rectangle in cm\n",
    "        \n",
    "        self.length = length\n",
    "        self.width = width\n",
    "        \n",
    "    def compute_area(self):\n",
    "        return self.length * self.width\n",
    "    \n",
    "    def __str__(self):\n",
    "        return \"Rectangle of {}x{} cm\".format(self.length, self.width)\n",
    "    \n",
    "    def __add__(self, other):\n",
    "        \n",
    "        if isinstance(other, Rectangle):\n",
    "            \n",
    "            #Sum rectangles' perimeters\n",
    "            rectangle_sum = 2*(self.width + self.length + other.width + other.length)\n",
    "            \n",
    "        else:\n",
    "            rectangle_sum = 2*(self.width + self.length) + other\n",
    "        \n",
    "        return rectangle_sum\n",
    "    \n",
    "\n",
    "    \n",
    "r1 = Rectangle(3,3)"
   ]
  },
  {
   "cell_type": "code",
   "execution_count": 50,
   "id": "velvet-species",
   "metadata": {},
   "outputs": [
    {
     "data": {
      "text/plain": [
       "17"
      ]
     },
     "execution_count": 50,
     "metadata": {},
     "output_type": "execute_result"
    }
   ],
   "source": [
    "r1+5"
   ]
  },
  {
   "cell_type": "markdown",
   "id": "young-brain",
   "metadata": {},
   "source": [
    "Type-based dispath is useful, but it is not always needed. Often you can avoid it by writing functions that work correctly for arguments with different types.\n",
    "\n",
    "Until now we've already used (and created) multiple functions that can work with different types. Think, for example in the `len()`*built-in* function, it works for lists, strings, tuples, sets...\n",
    "\n",
    "Functions that work with several types are called **polymorphic**. Polymotphism can facilitate code reuse. In general, if all the operations inside a function (or method) work with a given type, the function works with that type."
   ]
  },
  {
   "cell_type": "markdown",
   "id": "amazing-heather",
   "metadata": {},
   "source": [
    "### 3.1.3 Copying\n",
    "\n",
    "As we mentioned objects are mutable, that means that we have to take care of **aliasing**. A good solution is copying an object, for that we can use `copy` *module*\n",
    "\n",
    "When a function uses the mutability of the object to transform it without returning anything **intentionally** it's called **modifier**. In general, it's recommended not to use them because it tends to create more errors and increase the development time compared to the **pure functions** (the ones that return something)."
   ]
  },
  {
   "cell_type": "code",
   "execution_count": 59,
   "id": "significant-exhibition",
   "metadata": {},
   "outputs": [],
   "source": [
    "r1 = Rectangle(3,3)\n",
    "r2 = r1"
   ]
  },
  {
   "cell_type": "code",
   "execution_count": 60,
   "id": "major-receipt",
   "metadata": {},
   "outputs": [
    {
     "data": {
      "text/plain": [
       "True"
      ]
     },
     "execution_count": 60,
     "metadata": {},
     "output_type": "execute_result"
    }
   ],
   "source": [
    "r1 == r2"
   ]
  },
  {
   "cell_type": "code",
   "execution_count": 61,
   "id": "cultural-extraction",
   "metadata": {},
   "outputs": [],
   "source": [
    "r1.width = 2"
   ]
  },
  {
   "cell_type": "code",
   "execution_count": 62,
   "id": "humanitarian-freeware",
   "metadata": {},
   "outputs": [
    {
     "name": "stdout",
     "output_type": "stream",
     "text": [
      "2\n"
     ]
    }
   ],
   "source": [
    "print(r1.width)"
   ]
  },
  {
   "cell_type": "code",
   "execution_count": 63,
   "id": "opened-slovenia",
   "metadata": {},
   "outputs": [
    {
     "name": "stdout",
     "output_type": "stream",
     "text": [
      "2\n"
     ]
    }
   ],
   "source": [
    "print(r2.width)"
   ]
  },
  {
   "cell_type": "code",
   "execution_count": 3,
   "id": "residential-february",
   "metadata": {},
   "outputs": [],
   "source": [
    "#but if we copy they are not going to be the same but they are going to be equal\n",
    "import copy\n",
    "r1 = Rectangle(3,3)\n",
    "r2 = copy.copy(r1)"
   ]
  },
  {
   "cell_type": "code",
   "execution_count": 4,
   "id": "sunrise-prediction",
   "metadata": {},
   "outputs": [
    {
     "data": {
      "text/plain": [
       "False"
      ]
     },
     "execution_count": 4,
     "metadata": {},
     "output_type": "execute_result"
    }
   ],
   "source": [
    "r1 == r2"
   ]
  },
  {
   "cell_type": "code",
   "execution_count": 5,
   "id": "touched-implementation",
   "metadata": {},
   "outputs": [],
   "source": [
    "r1.width = 2"
   ]
  },
  {
   "cell_type": "code",
   "execution_count": 6,
   "id": "hispanic-botswana",
   "metadata": {
    "scrolled": true
   },
   "outputs": [
    {
     "name": "stdout",
     "output_type": "stream",
     "text": [
      "2\n"
     ]
    }
   ],
   "source": [
    "print(r1.width)"
   ]
  },
  {
   "cell_type": "code",
   "execution_count": 7,
   "id": "missing-curve",
   "metadata": {},
   "outputs": [
    {
     "name": "stdout",
     "output_type": "stream",
     "text": [
      "3\n"
     ]
    }
   ],
   "source": [
    "print(r2.width)"
   ]
  },
  {
   "cell_type": "markdown",
   "id": "exact-creativity",
   "metadata": {},
   "source": [
    "**WHYYYYYY????????**\n",
    "\n",
    "What we did with `copy.copy()` function is what is called a **shallow copy** because it copies the object and any references it contains, but not the embedded objects (attributes).\n",
    "\n",
    "For most of the cases, that's not what we want. If we need to copy everything we need to do a **deep copy**."
   ]
  },
  {
   "cell_type": "code",
   "execution_count": 70,
   "id": "binding-lightning",
   "metadata": {},
   "outputs": [],
   "source": [
    "r1 = Rectangle(3,3)\n",
    "r2 = copy.deepcopy(r1)"
   ]
  },
  {
   "cell_type": "code",
   "execution_count": 71,
   "id": "macro-custom",
   "metadata": {},
   "outputs": [
    {
     "data": {
      "text/plain": [
       "False"
      ]
     },
     "execution_count": 71,
     "metadata": {},
     "output_type": "execute_result"
    }
   ],
   "source": [
    "r1 == r2"
   ]
  },
  {
   "cell_type": "code",
   "execution_count": 72,
   "id": "sitting-matter",
   "metadata": {},
   "outputs": [
    {
     "name": "stdout",
     "output_type": "stream",
     "text": [
      "2\n"
     ]
    }
   ],
   "source": [
    "r1.width = 2\n",
    "print(r1.width)"
   ]
  },
  {
   "cell_type": "code",
   "execution_count": 73,
   "id": "flexible-flight",
   "metadata": {},
   "outputs": [
    {
     "name": "stdout",
     "output_type": "stream",
     "text": [
      "3\n"
     ]
    }
   ],
   "source": [
    "print(r2.width)"
   ]
  },
  {
   "cell_type": "markdown",
   "id": "cc1b1dbc",
   "metadata": {},
   "source": [
    "## Exercice break\n",
    "<img src=\"data:image/jpeg;base64,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\" alt=\"drawing\" width=\"250\"/>\n",
    "\n",
    "##### Exercice 1: \n",
    "- Create a class called `Animal` that has the following attributes: `name`, `specie`, `age`.\n",
    "- Define a method in the Animal class called `feed()` that prints a message to the console indicating that the animal has been fed.\n",
    "- Create another class called `Zoo` that has the following attributes: `name`, `location`, and `animals` (a list of Animal objects).\n",
    "- Define another method in the Zoo class called `feed_animals()` that iterates over the list of animals and calls the feed method for each one.\n",
    "\n",
    "##### Exercice 2:\n",
    "\n",
    "- Create a class called `Car` that has the following attributes: `company`, `model`, `year`, and `speed`.\n",
    "- Define a method in the Car class called `accelerate` that increases the speed of the car by 10.\n",
    "- Define another method in the Car class called `brake` that decreases the speed of the car by 7.\n",
    "- Define a method in the Car class called `expected_time` that prints the expected time, in hours and minutes, to reach a certain distance (given as parameter)\n",
    "- Create several instances of the Car class, set their attributes, and call the accelerate and brake methods to change their speed.\n",
    "- When you print a `Car` instance you should see the company, the model, how many times it has been accelerated (calls of `accelerate`) and how many times it has been slown down (calls of `brake`)"
   ]
  },
  {
   "cell_type": "code",
   "execution_count": 25,
   "id": "1ba480ca",
   "metadata": {},
   "outputs": [
    {
     "name": "stdout",
     "output_type": "stream",
     "text": [
      "Copito Nieve has been feed\n",
      "Laika has been feed\n"
     ]
    }
   ],
   "source": [
    "class Animal:\n",
    "    \n",
    "    def __init__(self, name, specie, age):\n",
    "        \n",
    "        self.name = name\n",
    "        self.specie = specie\n",
    "        self.age = age\n",
    "        \n",
    "    def feed(self):\n",
    "        print(\"{} has been feed\".format(self.name))\n",
    "        \n",
    "class Zoo:\n",
    "    \n",
    "    def __init__(self, name, location, animals):\n",
    "        \n",
    "        self.name = name\n",
    "        self.location = location\n",
    "        self.animals = animals\n",
    "        \n",
    "        \n",
    "    def feed_animals(self):\n",
    "        \n",
    "        for animal in self.animals:\n",
    "            animal.feed()\n",
    "            \n",
    "a1 = Animal(\"Copito Nieve\", \"White Gorilla\", 40)\n",
    "a2 = Animal(\"Laika\", \"Dog\", 52)\n",
    "\n",
    "z1 = Zoo(\"Animal park\", \"Barcelona\", [a1, a2])\n",
    "z1.feed_animals()"
   ]
  },
  {
   "cell_type": "code",
   "execution_count": 22,
   "id": "d86276be",
   "metadata": {},
   "outputs": [
    {
     "name": "stdout",
     "output_type": "stream",
     "text": [
      "The car will take 0 hours and 58 minutes to complete 49km\n"
     ]
    }
   ],
   "source": [
    "class Car:\n",
    "    \n",
    "    def __init__(self, company, model, year, speed=0):\n",
    "        #speed in km/h\n",
    "        self.company = company\n",
    "        self.model = model\n",
    "        self.year = year\n",
    "        self.speed = speed\n",
    "        self.accelerated = 0\n",
    "        self.slown_down = 0\n",
    "        \n",
    "    def accelerate(self):\n",
    "        #accelerates 10km/h\n",
    "        self.speed += 10\n",
    "        self.accelerated += 1\n",
    "        \n",
    "    def brake(self):\n",
    "        #reduces speed 10km/h\n",
    "        self.speed -= 10\n",
    "        self.slown_down +=1\n",
    "        \n",
    "    def expected_time(self, km):\n",
    "        \n",
    "        hours = km//self.speed\n",
    "        minutes = int((km%self.speed)/self.speed*60)\n",
    "        \n",
    "        print(\"The car will take {} hours and {} minutes to complete {}km\".format(hours, minutes, km))\n",
    "        \n",
    "car = Car(\"Seat\",\"Ibiza\",\"1998\",10)\n",
    "car.accelerate()\n",
    "car.accelerate()\n",
    "car.accelerate()\n",
    "car.accelerate()\n",
    "car.accelerate()\n",
    "car.brake()\n",
    "car.expected_time(49)"
   ]
  },
  {
   "cell_type": "markdown",
   "id": "fd46d3fc",
   "metadata": {},
   "source": [
    "##### Exercice 3: The following code writes a definition for a class named *Kangaroo*, but when you test it you find one bug (actually one of the most common, and difficult to find, errors in Python), fix it."
   ]
  },
  {
   "cell_type": "code",
   "execution_count": 8,
   "id": "2cca3c7f",
   "metadata": {
    "scrolled": true
   },
   "outputs": [
    {
     "name": "stdout",
     "output_type": "stream",
     "text": [
      "Kanga has pouch contents:\n",
      "    'wallet'\n",
      "    'car keys'\n",
      "    <__main__.Kangaroo object at 0x000001F06DEBA520>\n"
     ]
    }
   ],
   "source": [
    "#NO SOLUCIONAT\n",
    "# If you run this program as is, it seems to work.\n",
    "# To see the problem, trying printing roo.\n",
    "\n",
    "class Kangaroo:\n",
    "    \"\"\"A Kangaroo is a marsupial.\"\"\"\n",
    "    \n",
    "    def __init__(self, name, contents=[]):\n",
    "        \"\"\"Initialize the pouch contents.\n",
    "        name: string\n",
    "        contents: initial pouch contents.\n",
    "        \"\"\"\n",
    "        self.name = name\n",
    "        self.pouch_contents = contents\n",
    "\n",
    "    def __str__(self):\n",
    "        \"\"\"Return a string representaion of this Kangaroo.\n",
    "        \"\"\"\n",
    "        t = [ self.name + ' has pouch contents:' ]\n",
    "        for obj in self.pouch_contents:\n",
    "            s = '    ' + object.__str__(obj)\n",
    "            t.append(s)\n",
    "        return '\\n'.join(t)\n",
    "\n",
    "    def put_in_pouch(self, item):\n",
    "        \"\"\"Adds a new item to the pouch contents.\n",
    "        item: object to be added\n",
    "        \"\"\"\n",
    "        self.pouch_contents.append(item)\n",
    "\n",
    "\n",
    "kanga = Kangaroo('Kanga')\n",
    "roo = Kangaroo('Roo')\n",
    "kanga.put_in_pouch('wallet')\n",
    "kanga.put_in_pouch('car keys')\n",
    "kanga.put_in_pouch(roo)\n",
    "\n",
    "print(kanga)\n",
    "\n"
   ]
  },
  {
   "cell_type": "code",
   "execution_count": 9,
   "id": "be453c5b",
   "metadata": {},
   "outputs": [
    {
     "name": "stdout",
     "output_type": "stream",
     "text": [
      "Roo has pouch contents:\n",
      "    'wallet'\n",
      "    'car keys'\n",
      "    <__main__.Kangaroo object at 0x000001F06DEBA520>\n"
     ]
    }
   ],
   "source": [
    "print(roo)"
   ]
  },
  {
   "cell_type": "code",
   "execution_count": 10,
   "id": "a6e7a188",
   "metadata": {
    "scrolled": true
   },
   "outputs": [
    {
     "name": "stdout",
     "output_type": "stream",
     "text": [
      "Toyota Yaris Blue\n"
     ]
    }
   ],
   "source": [
    "class Car:\n",
    "    \n",
    "    model = \"Toyota Yaris\"\n",
    "    speed = 120\n",
    "        \n",
    "    def __str__(self):\n",
    "        return(\" \".join([self.model, self.color]))\n",
    "        \n",
    "my_car = Car()\n",
    "\n",
    "my_car.color = \"Blue\"\n",
    "print(my_car)"
   ]
  },
  {
   "cell_type": "code",
   "execution_count": 38,
   "id": "b97b50e0",
   "metadata": {},
   "outputs": [
    {
     "data": {
      "text/plain": [
       "'Toyota Yaris Blue'"
      ]
     },
     "execution_count": 38,
     "metadata": {},
     "output_type": "execute_result"
    }
   ],
   "source": []
  }
 ],
 "metadata": {
  "kernelspec": {
   "display_name": "Python 3 (ipykernel)",
   "language": "python",
   "name": "python3"
  },
  "language_info": {
   "codemirror_mode": {
    "name": "ipython",
    "version": 3
   },
   "file_extension": ".py",
   "mimetype": "text/x-python",
   "name": "python",
   "nbconvert_exporter": "python",
   "pygments_lexer": "ipython3",
   "version": "3.9.13"
  }
 },
 "nbformat": 4,
 "nbformat_minor": 5
}
