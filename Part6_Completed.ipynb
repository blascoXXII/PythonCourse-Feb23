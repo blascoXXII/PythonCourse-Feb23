{
 "cells": [
  {
   "cell_type": "markdown",
   "id": "concrete-scratch",
   "metadata": {},
   "source": [
    "# Part 6: Classes and functions, part 2\n",
    "\n",
    "<img src=\"https://upload.wikimedia.org/wikipedia/commons/thumb/0/0a/Python.svg/800px-Python.svg.png\" alt=\"drawing\" width=\"250\"/>\n"
   ]
  },
  {
   "cell_type": "markdown",
   "id": "convertible-while",
   "metadata": {},
   "source": [
    "## 6. 1 Class Inheritance\n",
    "\n",
    "We've seen that classes have `attributes` and `methods` and how usefult they can be. But what happends when we have two *things* that have share some attributes and methods? Here is where inheritance takes the stage.\n",
    "\n",
    "\n",
    "Inheritance is the ability to define a new class **based on an existing class**. In this case, the new class is called **child** and the already defined classe (the one use used as base) is called **parent** (also known as superclass) .\n",
    "\n",
    "\n",
    "### 6.1.1 How it works?\n",
    "\n",
    "To defina a new class with inheritance we only need to put the parent class inside the parenthesis in the Class definition header:\n",
    "```\n",
    ">>> class NewChildClass(ParentClass):\n",
    "```\n",
    "\n",
    "Just with that the new class will automatically have all the *attributes* and *methods* that ParentClass has defined. If we define the same attrbute/method we will overwrite it (it will do the instructions that are defined here and ignore the ones from the ParentClass)\n",
    "\n",
    "\n",
    "### 6.1.2 Example: Animals\n",
    "\n",
    "Do you remember the Car exercice from first week? We'll extend that.\n",
    "\n",
    "If you remember we defined a class named `Car`. Now imagine that we want to expand the complexity of the program and define different types of vehicles such as bike, truck or bus. For this porpouse we'll rename `Car` to `Vehicle`."
   ]
  },
  {
   "cell_type": "code",
   "execution_count": 2,
   "id": "68d43706",
   "metadata": {},
   "outputs": [],
   "source": [
    "class Vehicle:\n",
    "    \n",
    "    def __init__(self, company, model, year, speed=0):\n",
    "        #speed in km/h\n",
    "        self.company = company\n",
    "        self.model = model\n",
    "        self.year = year\n",
    "        self.speed = speed\n",
    "        self.accelerated = 0\n",
    "        self.slown_down = 0\n",
    "        \n",
    "    def accelerate(self):\n",
    "        #accelerates 10km/h\n",
    "        self.speed += 10\n",
    "        self.accelerated += 1\n",
    "        \n",
    "    def brake(self):\n",
    "        #reduces speed 10km/h\n",
    "        self.speed -= 10\n",
    "        self.slown_down +=1\n",
    "        \n",
    "    def expected_time(self, km):\n",
    "        \n",
    "        hours = km//self.speed\n",
    "        minutes = int((km%self.speed)/self.speed*60)\n",
    "        \n",
    "        print(\"It will take {} hours and {} minutes to complete {}km\".format(hours, minutes, km))"
   ]
  },
  {
   "cell_type": "code",
   "execution_count": 3,
   "id": "0b6fbd41",
   "metadata": {},
   "outputs": [],
   "source": [
    "class Car(Vehicle):\n",
    "    pass"
   ]
  },
  {
   "cell_type": "code",
   "execution_count": 4,
   "id": "121ee787",
   "metadata": {},
   "outputs": [
    {
     "name": "stdout",
     "output_type": "stream",
     "text": [
      "It will take 0 hours and 58 minutes to complete 49km\n"
     ]
    }
   ],
   "source": [
    "car = Car(\"Seat\",\"Ibiza\",\"1998\",10)\n",
    "car.accelerate()\n",
    "car.accelerate()\n",
    "car.accelerate()\n",
    "car.accelerate()\n",
    "car.accelerate()\n",
    "car.brake()\n",
    "car.expected_time(49)"
   ]
  },
  {
   "cell_type": "code",
   "execution_count": 5,
   "id": "453985f8",
   "metadata": {},
   "outputs": [],
   "source": [
    "class Truck(Vehicle):\n",
    "    \n",
    "    def load(self, item):\n",
    "        print(\"Loading truck with {}\".format(item))"
   ]
  },
  {
   "cell_type": "code",
   "execution_count": 6,
   "id": "aad8a8a9",
   "metadata": {},
   "outputs": [
    {
     "name": "stdout",
     "output_type": "stream",
     "text": [
      "It will take 0 hours and 45 minutes to complete 15km\n"
     ]
    }
   ],
   "source": [
    "truck = Truck(\"Mercedes Benz\",\"Acros\",\"2020\",10)\n",
    "truck.accelerate()\n",
    "truck.accelerate()\n",
    "truck.brake()\n",
    "truck.expected_time(15)"
   ]
  },
  {
   "cell_type": "code",
   "execution_count": 7,
   "id": "0e914d31",
   "metadata": {},
   "outputs": [
    {
     "name": "stdout",
     "output_type": "stream",
     "text": [
      "Loading truck with onions\n"
     ]
    }
   ],
   "source": [
    "truck.load(\"onions\")"
   ]
  },
  {
   "cell_type": "code",
   "execution_count": 8,
   "id": "f5baf8b8",
   "metadata": {},
   "outputs": [
    {
     "data": {
      "text/plain": [
       "True"
      ]
     },
     "execution_count": 8,
     "metadata": {},
     "output_type": "execute_result"
    }
   ],
   "source": [
    "isinstance(truck, Vehicle)"
   ]
  },
  {
   "cell_type": "code",
   "execution_count": 9,
   "id": "f706f6a9",
   "metadata": {},
   "outputs": [
    {
     "data": {
      "text/plain": [
       "True"
      ]
     },
     "execution_count": 9,
     "metadata": {},
     "output_type": "execute_result"
    }
   ],
   "source": [
    "isinstance(truck, Truck)"
   ]
  },
  {
   "cell_type": "markdown",
   "id": "83b80341",
   "metadata": {},
   "source": [
    "### 6.1.3 *super()* function\n",
    "\n",
    "We've seen that if we can *overwrite* a class method in inheritance, but what if we want to add something? For example we want to initialize all the *attribute* from the parent and also add new ones?\n",
    "\n",
    "One option could be to define everything from scratch, but I wouldn't be elegant. A better solution is tu use the ***super()*** function allows to **call *methods* and *attributes* from parenst's class**"
   ]
  },
  {
   "cell_type": "code",
   "execution_count": 10,
   "id": "a402c399",
   "metadata": {},
   "outputs": [],
   "source": [
    "class Truck(Vehicle):\n",
    "    \n",
    "    def __init__(self, items, company, model, year, speed):\n",
    "        \n",
    "        super().__init__(company, model, year, speed)\n",
    "        if items is None:\n",
    "            items = []\n",
    "            \n",
    "        self.items = items\n",
    "        \n",
    "    def load(self, item):\n",
    "        self.items.append(item)\n",
    "        print(\"Loading truck with {}\".format(item))\n",
    "        \n",
    "    def print_load(self):\n",
    "        \n",
    "        print(\"Truck is loading:\")\n",
    "        \n",
    "        for item in self.items:\n",
    "            print(\"   {}\".format(item))"
   ]
  },
  {
   "cell_type": "code",
   "execution_count": 11,
   "id": "dd7479b5",
   "metadata": {},
   "outputs": [
    {
     "name": "stdout",
     "output_type": "stream",
     "text": [
      "It will take 0 hours and 45 minutes to complete 15km\n",
      "Loading truck with onions\n"
     ]
    }
   ],
   "source": [
    "truck = Truck([\"Potatoes\"],\"Mercedes Benz\",\"Acros\",\"2020\",10)\n",
    "truck.accelerate()\n",
    "truck.accelerate()\n",
    "truck.brake()\n",
    "truck.expected_time(15)\n",
    "truck.load(\"onions\")"
   ]
  },
  {
   "cell_type": "code",
   "execution_count": 12,
   "id": "6e27a775",
   "metadata": {},
   "outputs": [
    {
     "name": "stdout",
     "output_type": "stream",
     "text": [
      "Truck is loading:\n",
      "   Potatoes\n",
      "   onions\n"
     ]
    }
   ],
   "source": [
    "truck.print_load()"
   ]
  },
  {
   "cell_type": "markdown",
   "id": "d3839e6e",
   "metadata": {},
   "source": [
    "### 6.1.4 Multiple inheritance\n",
    "\n",
    "We can have more than one parent class by adding them with comas in class header. Be aware that if two or more parents names have the same *attribute* or *method* we will keep the one from the first one (the one that is more to the left)."
   ]
  },
  {
   "cell_type": "code",
   "execution_count": 13,
   "id": "e791f531",
   "metadata": {},
   "outputs": [],
   "source": [
    "class ElectricVehicle(Vehicle):\n",
    "    \n",
    "    def __init__(self, company, model, year, speed=0):\n",
    "        #speed in km/h\n",
    "        super().__init__(company, model, year, speed=0)\n",
    "        self.autonomy=100\n",
    "        \n",
    "    def charge(self):\n",
    "        #accelerates 10km/h\n",
    "        self.autonomy = 100"
   ]
  },
  {
   "cell_type": "code",
   "execution_count": 14,
   "id": "ec733d86",
   "metadata": {},
   "outputs": [
    {
     "name": "stdout",
     "output_type": "stream",
     "text": [
      "It will take 1 hours and 13 minutes to complete 49km\n"
     ]
    }
   ],
   "source": [
    "car = ElectricVehicle(\"Seat\",\"Ibiza\",\"2023\",10)\n",
    "car.accelerate()\n",
    "car.accelerate()\n",
    "car.accelerate()\n",
    "car.accelerate()\n",
    "car.accelerate()\n",
    "car.brake()\n",
    "car.expected_time(49)"
   ]
  },
  {
   "cell_type": "markdown",
   "id": "7cdfe5c7",
   "metadata": {},
   "source": [
    "## 6. 2 *args and **kwargs\n",
    "\n",
    "To pass arguments into functions and methods we've seen that we have to define all the paramenters. But what if we don't know how many we will take? Then we can use *args* and *kwargs*\n"
   ]
  },
  {
   "cell_type": "code",
   "execution_count": 15,
   "id": "ff26a0bc",
   "metadata": {},
   "outputs": [],
   "source": [
    "def sum(*args):\n",
    "    \n",
    "    print(type(args))\n",
    "    value = 0\n",
    "    \n",
    "    for n in args:\n",
    "        value += n\n",
    "        \n",
    "    return value"
   ]
  },
  {
   "cell_type": "code",
   "execution_count": 16,
   "id": "3a7cf28a",
   "metadata": {},
   "outputs": [
    {
     "name": "stdout",
     "output_type": "stream",
     "text": [
      "<class 'tuple'>\n"
     ]
    },
    {
     "data": {
      "text/plain": [
       "21"
      ]
     },
     "execution_count": 16,
     "metadata": {},
     "output_type": "execute_result"
    }
   ],
   "source": [
    "sum(1,2,3,4,5,6)"
   ]
  },
  {
   "cell_type": "code",
   "execution_count": 17,
   "id": "37779728",
   "metadata": {},
   "outputs": [],
   "source": [
    "def print_things(**kwargs):\n",
    "    \n",
    "    print(type(kwargs))\n",
    "    \n",
    "    for item, value in kwargs.items():\n",
    "        print(\"{} - {}\".format(item, value))\n",
    "        "
   ]
  },
  {
   "cell_type": "code",
   "execution_count": 18,
   "id": "4ea79590",
   "metadata": {},
   "outputs": [
    {
     "name": "stdout",
     "output_type": "stream",
     "text": [
      "<class 'dict'>\n",
      "onion - 1\n",
      "potatoe - 2\n",
      "eggs - 6\n"
     ]
    }
   ],
   "source": [
    "print_things(onion=1, potatoe=2, eggs=6)"
   ]
  },
  {
   "cell_type": "code",
   "execution_count": 23,
   "id": "72b32fd6",
   "metadata": {},
   "outputs": [],
   "source": [
    "#We could define Truck.load() with args or kwargs to load multiple items in the same call (without passing a list)\n",
    "#Also we can use args and kwargs to avoid specifing parent's class attributes in the constructor.\n",
    "class Truck(Vehicle):\n",
    "    \n",
    "    def __init__(self,items, *args, **kwargs):\n",
    "        \n",
    "        super().__init__(*args, **kwargs)\n",
    "        if items is None:\n",
    "            items = []\n",
    "            \n",
    "        self.items = items\n",
    "        \n",
    "    def load(self, *args):\n",
    "        for item in args:\n",
    "            self.items.append(item)\n",
    "            print(\"Loading truck with {}\".format(item))\n",
    "        \n",
    "    def print_load(self):\n",
    "        \n",
    "        print(\"Truck is loading:\")\n",
    "        \n",
    "        for item in self.items:\n",
    "            print(\"   {}\".format(item))"
   ]
  },
  {
   "cell_type": "code",
   "execution_count": 24,
   "id": "1b75c041",
   "metadata": {
    "scrolled": true
   },
   "outputs": [
    {
     "name": "stdout",
     "output_type": "stream",
     "text": [
      "It will take 0 hours and 45 minutes to complete 15km\n",
      "Loading truck with onions\n"
     ]
    }
   ],
   "source": [
    "truck = Truck([],\"Mercedes Benz\",\"Acros\",\"2020\",10)\n",
    "truck.accelerate()\n",
    "truck.accelerate()\n",
    "truck.brake()\n",
    "truck.expected_time(15)\n",
    "truck.load(\"onions\")"
   ]
  },
  {
   "cell_type": "code",
   "execution_count": 25,
   "id": "e8958404",
   "metadata": {
    "scrolled": true
   },
   "outputs": [
    {
     "name": "stdout",
     "output_type": "stream",
     "text": [
      "Loading truck with potatoes\n",
      "Loading truck with eggs\n",
      "Loading truck with oil\n"
     ]
    }
   ],
   "source": [
    "truck.load(\"potatoes\",\"eggs\",\"oil\")"
   ]
  }
 ],
 "metadata": {
  "kernelspec": {
   "display_name": "Python 3 (ipykernel)",
   "language": "python",
   "name": "python3"
  },
  "language_info": {
   "codemirror_mode": {
    "name": "ipython",
    "version": 3
   },
   "file_extension": ".py",
   "mimetype": "text/x-python",
   "name": "python",
   "nbconvert_exporter": "python",
   "pygments_lexer": "ipython3",
   "version": "3.9.13"
  }
 },
 "nbformat": 4,
 "nbformat_minor": 5
}
