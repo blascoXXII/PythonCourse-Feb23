{
 "cells": [
  {
   "cell_type": "markdown",
   "id": "concrete-scratch",
   "metadata": {},
   "source": [
    "# Part 7: Error handling\n",
    "\n",
    "<img src=\"https://upload.wikimedia.org/wikipedia/commons/thumb/0/0a/Python.svg/800px-Python.svg.png\" alt=\"drawing\" width=\"250\"/>\n"
   ]
  },
  {
   "cell_type": "markdown",
   "id": "1c0dafcd",
   "metadata": {},
   "source": [
    "## 7. 1 Errors and exceptions\n",
    "\n",
    "<img src=\"https://dam.smashmexico.com.mx/wp-content/uploads/2019/07/meme-spiderman.jpg\" alt=\"drawing\" width=\"250\"/>\n",
    "\n",
    "An error is an **issue** in a program that prevents the program from completing its task. For example: \n",
    "\n",
    "- Using unasigned variables (NameError)\n",
    "- Using return outside a function/method (SyntaxError)\n",
    "- Dividing by zero (ZeroDivisionError)\n",
    "\n",
    "An exception is a **condition** that interrupts the normal flow of the program.  We can think of exceptions as errors that are specifically handled to not break the program."
   ]
  },
  {
   "cell_type": "code",
   "execution_count": 1,
   "id": "5b0991af",
   "metadata": {},
   "outputs": [
    {
     "ename": "SyntaxError",
     "evalue": "'return' outside function (3034570434.py, line 1)",
     "output_type": "error",
     "traceback": [
      "\u001b[1;36m  File \u001b[1;32m\"C:\\Users\\Blasco\\AppData\\Local\\Temp\\ipykernel_20068\\3034570434.py\"\u001b[1;36m, line \u001b[1;32m1\u001b[0m\n\u001b[1;33m    return 1+1\u001b[0m\n\u001b[1;37m    ^\u001b[0m\n\u001b[1;31mSyntaxError\u001b[0m\u001b[1;31m:\u001b[0m 'return' outside function\n"
     ]
    }
   ],
   "source": [
    "return 1+1"
   ]
  },
  {
   "cell_type": "code",
   "execution_count": null,
   "id": "cbc44bd7",
   "metadata": {},
   "outputs": [],
   "source": [
    "a + 1"
   ]
  },
  {
   "cell_type": "code",
   "execution_count": null,
   "id": "741f975a",
   "metadata": {},
   "outputs": [],
   "source": [
    "1/0"
   ]
  },
  {
   "cell_type": "markdown",
   "id": "75ff0877",
   "metadata": {},
   "source": [
    "## 7. 2 How to handle errors?\n",
    "\n",
    "I would divide the errors in three different groups, that are handled in different ways:\n",
    "\n",
    "- Syntax errors: Errors that will **always appear** when we try to run a program, usually because there are typos, undefined variables, uninstalled modules... They are easy to spot and you only need to check the part of code that is causing the errors.\n",
    "\n",
    "\n",
    "- Runtime errors: Errors that will appear in some scenarios and will break the program (it won't finish), usually this type of errors are linked with external interactions (data from files, inputs from the user, APIs...) For example, let's imagine that we ask the user to give the program two numbers and to divide them. If the user inputs a zero as second number the program will fail, but in any other scenario it will work correctly. To handle this kind of errors you have to **be aware of the limitations** of your code (for example, knowing that you can not divide by 0 or that the files can not exist).\n",
    "\n",
    "\n",
    "- Logical errors: Errors that, like runtime, will appear in some scenarios but they won't break the program. Because they are silent they are the **hardest ones to find**. Usually they are related to a bad definition of the flow or a missunderstandment in the program requirements. You can not handle them specifically, you need to test all possible scenarios to prevent them though.\n"
   ]
  },
  {
   "cell_type": "code",
   "execution_count": null,
   "id": "ad076c98",
   "metadata": {},
   "outputs": [],
   "source": [
    "#Syntax error\n",
    "def division()\n",
    "\n",
    "    a = int(input(\"Number a: \"))\n",
    "    b = int(input(\"Number b: \"))\n",
    "    return a/b"
   ]
  },
  {
   "cell_type": "code",
   "execution_count": null,
   "id": "1d239f90",
   "metadata": {},
   "outputs": [],
   "source": [
    "def division():\n",
    "    a = int(input(\"Number a: \"))\n",
    "    b = int(input(\"Number b: \"))\n",
    "    return a/b\n",
    "\n",
    "division()\n"
   ]
  },
  {
   "cell_type": "code",
   "execution_count": null,
   "id": "c1f75f36",
   "metadata": {},
   "outputs": [],
   "source": [
    "def check(a,b):\n",
    "    \"\"\"\n",
    "    Function that returns 1 if a is greater than b, 2 if a is equal to b and 3 if 2 is lower than b.\n",
    "    \"\"\"\n",
    "    if a>=b:\n",
    "        return 1\n",
    "    elif a==b:\n",
    "        return 2\n",
    "    else:\n",
    "        return 3\n",
    "\n",
    "print(check(2,2))"
   ]
  },
  {
   "cell_type": "markdown",
   "id": "3195d91b",
   "metadata": {},
   "source": [
    "## 7.2.1 Runtime errors handle: try-except\n",
    "\n",
    "As we've seen the only possible errors that can be handled in the program are the runtime errors. The way we solve them is by creating a logic that if at specific point something happens, if does something else (sounds like a conditional statement?)\n",
    "\n",
    "Following that logic we could add some lines of code to check the pre-conditions to run a specific function/part of code:"
   ]
  },
  {
   "cell_type": "code",
   "execution_count": null,
   "id": "53628c95",
   "metadata": {},
   "outputs": [],
   "source": [
    "def division():\n",
    "    a = int(input(\"Number a: \"))\n",
    "    b = int(input(\"Number b: \"))\n",
    "    \n",
    "    if b!=0:\n",
    "        return a/b\n",
    "    else:\n",
    "        return \"Impossible\"\n",
    "\n",
    "division()\n"
   ]
  },
  {
   "cell_type": "markdown",
   "id": "38fc19db",
   "metadata": {},
   "source": [
    "In some simple scenarios like this one, this solution might be enough but there's something that would be more generic:\n",
    "\n",
    "What the try-except statement does is that the program tries everithing that's inside *try*. If something there fails then it runs the *except* part, if everything goes right (no errors) it skips the *except* part.\n",
    "There's a last optional part named *finally*  that will be executed after the try-except part (independently if an error has been handled or not)."
   ]
  },
  {
   "cell_type": "code",
   "execution_count": null,
   "id": "97cc9f37",
   "metadata": {},
   "outputs": [],
   "source": [
    "def division():\n",
    "    a = input(\"Number a: \")\n",
    "    b = input(\"Number b: \")\n",
    "    \n",
    "    try:\n",
    "        print(\"Start trying\")\n",
    "        print(int(a)/int(b))\n",
    "        print(\"End trying\")\n",
    "    except:\n",
    "        print(\"Impossible\")\n",
    "        print(\"Except\")\n",
    "        \n",
    "    print(\"End of function\")\n",
    "\n",
    "division()\n"
   ]
  },
  {
   "cell_type": "code",
   "execution_count": null,
   "id": "1ad8c2fc",
   "metadata": {},
   "outputs": [],
   "source": [
    "division()"
   ]
  },
  {
   "cell_type": "markdown",
   "id": "fa2b63da",
   "metadata": {},
   "source": [
    "Usually it's not a good idea to *catch* all type of errors. So we can specify what kind of error we want to handle. In this case if the program has a *ZeroDivisionError* it will use the try-except. But if the user passes a string instead of a number the code will broke anyway."
   ]
  },
  {
   "cell_type": "code",
   "execution_count": null,
   "id": "a444ba32",
   "metadata": {},
   "outputs": [],
   "source": [
    "def division():\n",
    "    a = input(\"Number a: \")\n",
    "    b = input(\"Number b: \")\n",
    "    \n",
    "    try:\n",
    "        print(\"Start trying\")\n",
    "        print(int(a)/int(b))\n",
    "        print(\"End trying\")\n",
    "    except ZeroDivisionError:\n",
    "        print(\"Impossible\")\n",
    "        print(\"Except\")\n",
    "        \n",
    "    print(\"End of function\")\n",
    "\n",
    "division()\n"
   ]
  },
  {
   "cell_type": "code",
   "execution_count": null,
   "id": "762fa8b3",
   "metadata": {},
   "outputs": [],
   "source": [
    "division()"
   ]
  },
  {
   "cell_type": "code",
   "execution_count": null,
   "id": "b55fc4fe",
   "metadata": {},
   "outputs": [],
   "source": [
    "def division():\n",
    "    a = input(\"Number a: \")\n",
    "    b = input(\"Number b: \")\n",
    "    \n",
    "    try:\n",
    "        print(\"Start trying\")\n",
    "        print(int(a)/int(b))\n",
    "        print(\"End trying\")\n",
    "    except ZeroDivisionError:\n",
    "        print(\"Impossible\")\n",
    "        print(\"Except\")\n",
    "    \n",
    "    except ValueError:\n",
    "        print(\"Impossible2\")\n",
    "        print(\"Except2\")\n",
    "        \n",
    "    finally:  \n",
    "        print(\"End of function\")\n",
    "\n",
    "division()\n"
   ]
  },
  {
   "cell_type": "markdown",
   "id": "b5e94310",
   "metadata": {},
   "source": [
    "## 7.3 Specify types of paramenters\n",
    "\n",
    "Sometimes errors are caused by passing invalid types when calling functions (passing string instead of integer...). Appart from creating a way to handle that we could specify the arguments type to make sure that developers know what they have to pass (also some IDEs can use it to help).\n",
    "\n",
    "You can also add a description instead of specify the variable type.\n",
    "\n",
    "I prefer specifing all this information in **docstring**."
   ]
  },
  {
   "cell_type": "code",
   "execution_count": 17,
   "id": "f9047396",
   "metadata": {},
   "outputs": [],
   "source": [
    "def div(a: int, b:\"This is a numeric value different than 0\") -> float:\n",
    "    \n",
    "    return a/b\n",
    "    "
   ]
  },
  {
   "cell_type": "code",
   "execution_count": 22,
   "id": "8342dc8f",
   "metadata": {},
   "outputs": [],
   "source": [
    "def div2(a, b):\n",
    "    \"\"\"\n",
    "    Function that takes two numbers and divides them.\n",
    "\n",
    "    Parameters\n",
    "    ----------\n",
    "    a : numeric \n",
    "\n",
    "    b : numeric\n",
    "\n",
    "    Returns\n",
    "    -------\n",
    "    float\n",
    "    result of math operation a/b\n",
    "\n",
    "    \"\"\"\n",
    "\n",
    "    return a/b\n",
    "    "
   ]
  },
  {
   "cell_type": "code",
   "execution_count": 18,
   "id": "d46ab6a4",
   "metadata": {},
   "outputs": [
    {
     "data": {
      "text/plain": [
       "2.0"
      ]
     },
     "execution_count": 18,
     "metadata": {},
     "output_type": "execute_result"
    }
   ],
   "source": [
    "div(2,1)"
   ]
  },
  {
   "cell_type": "code",
   "execution_count": 23,
   "id": "c9bc688d",
   "metadata": {},
   "outputs": [
    {
     "data": {
      "text/plain": [
       "2.0"
      ]
     },
     "execution_count": 23,
     "metadata": {},
     "output_type": "execute_result"
    }
   ],
   "source": [
    "div2(2,1)"
   ]
  },
  {
   "cell_type": "code",
   "execution_count": 24,
   "id": "2e0cbe1e",
   "metadata": {},
   "outputs": [
    {
     "name": "stdout",
     "output_type": "stream",
     "text": [
      "None\n"
     ]
    }
   ],
   "source": [
    "print(div.__doc__)"
   ]
  },
  {
   "cell_type": "code",
   "execution_count": 25,
   "id": "1616908a",
   "metadata": {},
   "outputs": [
    {
     "name": "stdout",
     "output_type": "stream",
     "text": [
      "\n",
      "    Function that takes two numbers and divides them.\n",
      "\n",
      "    Parameters\n",
      "    ----------\n",
      "    a : numeric \n",
      "\n",
      "    b : numeric\n",
      "\n",
      "    Returns\n",
      "    -------\n",
      "    float\n",
      "    result of math operation a/b\n",
      "\n",
      "    \n"
     ]
    }
   ],
   "source": [
    "print(div2.__doc__)"
   ]
  },
  {
   "cell_type": "markdown",
   "id": "0cc6bd08",
   "metadata": {},
   "source": [
    "## 7.4 Raise our own classes\n",
    "\n",
    "You can create your own errors by defining new a new class that inherits Exception (yes, errors are objects too). And we can throw exceptions by using the keyword *raise*"
   ]
  },
  {
   "cell_type": "code",
   "execution_count": 13,
   "id": "ea4e533d",
   "metadata": {},
   "outputs": [],
   "source": [
    "class InvalidEmailError(Exception):\n",
    "    pass"
   ]
  },
  {
   "cell_type": "code",
   "execution_count": 14,
   "id": "202fbbe5",
   "metadata": {},
   "outputs": [],
   "source": [
    "def ask_email():\n",
    "    email = input(\"Especifique email: \")\n",
    "    \n",
    "    if \"@\" not in email:\n",
    "        raise InvalidEmailError(\"Email doesn't have the specified format\")"
   ]
  },
  {
   "cell_type": "code",
   "execution_count": 15,
   "id": "df9a7845",
   "metadata": {},
   "outputs": [
    {
     "name": "stdout",
     "output_type": "stream",
     "text": [
      "Especifique email: lluisbla\n"
     ]
    },
    {
     "ename": "InvalidEmailError",
     "evalue": "Email doesn't have the specified format",
     "output_type": "error",
     "traceback": [
      "\u001b[1;31m---------------------------------------------------------------------------\u001b[0m",
      "\u001b[1;31mInvalidEmailError\u001b[0m                         Traceback (most recent call last)",
      "\u001b[1;32m~\\AppData\\Local\\Temp\\ipykernel_20068\\1393599556.py\u001b[0m in \u001b[0;36m<module>\u001b[1;34m\u001b[0m\n\u001b[1;32m----> 1\u001b[1;33m \u001b[0mask_email\u001b[0m\u001b[1;33m(\u001b[0m\u001b[1;33m)\u001b[0m\u001b[1;33m\u001b[0m\u001b[1;33m\u001b[0m\u001b[0m\n\u001b[0m",
      "\u001b[1;32m~\\AppData\\Local\\Temp\\ipykernel_20068\\3579082158.py\u001b[0m in \u001b[0;36mask_email\u001b[1;34m()\u001b[0m\n\u001b[0;32m      3\u001b[0m \u001b[1;33m\u001b[0m\u001b[0m\n\u001b[0;32m      4\u001b[0m     \u001b[1;32mif\u001b[0m \u001b[1;34m\"@\"\u001b[0m \u001b[1;32mnot\u001b[0m \u001b[1;32min\u001b[0m \u001b[0memail\u001b[0m\u001b[1;33m:\u001b[0m\u001b[1;33m\u001b[0m\u001b[1;33m\u001b[0m\u001b[0m\n\u001b[1;32m----> 5\u001b[1;33m         \u001b[1;32mraise\u001b[0m \u001b[0mInvalidEmailError\u001b[0m\u001b[1;33m(\u001b[0m\u001b[1;34m\"Email doesn't have the specified format\"\u001b[0m\u001b[1;33m)\u001b[0m\u001b[1;33m\u001b[0m\u001b[1;33m\u001b[0m\u001b[0m\n\u001b[0m",
      "\u001b[1;31mInvalidEmailError\u001b[0m: Email doesn't have the specified format"
     ]
    }
   ],
   "source": [
    "ask_email()"
   ]
  },
  {
   "cell_type": "code",
   "execution_count": null,
   "id": "8842da7c",
   "metadata": {},
   "outputs": [],
   "source": []
  }
 ],
 "metadata": {
  "kernelspec": {
   "display_name": "Python 3 (ipykernel)",
   "language": "python",
   "name": "python3"
  },
  "language_info": {
   "codemirror_mode": {
    "name": "ipython",
    "version": 3
   },
   "file_extension": ".py",
   "mimetype": "text/x-python",
   "name": "python",
   "nbconvert_exporter": "python",
   "pygments_lexer": "ipython3",
   "version": "3.9.13"
  }
 },
 "nbformat": 4,
 "nbformat_minor": 5
}
