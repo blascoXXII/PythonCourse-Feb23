{
 "cells": [
  {
   "cell_type": "markdown",
   "id": "cardiovascular-authority",
   "metadata": {},
   "source": [
    "# Part 5: External files\n",
    "\n",
    "<img src=\"https://upload.wikimedia.org/wikipedia/commons/thumb/0/0a/Python.svg/800px-Python.svg.png\" alt=\"drawing\" width=\"250\"/>"
   ]
  },
  {
   "cell_type": "markdown",
   "id": "unlikely-advantage",
   "metadata": {},
   "source": [
    "## 5.1 Persistence\n",
    "\n",
    "All the programs that we've seen until now are transient, they run for a short time and produce some output, but when they end, their data disappears.\n",
    "\n",
    "On the other hand, if we need to keep this data after the execution of the program, we will need **persistent** programs, which keeps some of their data in permanent storage.\n",
    "\n",
    "For this porpouse you can use two different approaches:\n",
    "- Usage of external files\n",
    "- Usage of data bases (not covered in this course)"
   ]
  },
  {
   "cell_type": "markdown",
   "id": "cultural-boston",
   "metadata": {},
   "source": [
    "## 5.2 Working with text files\n",
    "\n",
    "The **simplest** type of external files are the text ones.\n",
    "\n",
    "In general, there are 4 steps that a program follows when it works wiht external files:\n",
    "\n",
    "1. Create it\n",
    "2. Open it\n",
    "3. Work with it (read, write, append...)\n",
    "4. Close it\n",
    "\n",
    "In Python, first two steps are combined in function `open()`, basically if the file the program is trying to open doesn't exist it will be created and opened (if you specified that it can write), otherwhise just opened:"
   ]
  },
  {
   "cell_type": "code",
   "execution_count": 19,
   "id": "proprietary-florence",
   "metadata": {},
   "outputs": [],
   "source": [
    "file = open(\"HelloWorld.txt\", \"w\")"
   ]
  },
  {
   "cell_type": "code",
   "execution_count": 20,
   "id": "vanilla-porter",
   "metadata": {},
   "outputs": [
    {
     "name": "stdout",
     "output_type": "stream",
     "text": [
      "<_io.TextIOWrapper name='HelloWorld.txt' mode='w' encoding='cp1252'>\n"
     ]
    }
   ],
   "source": [
    "print(file)"
   ]
  },
  {
   "cell_type": "code",
   "execution_count": 22,
   "id": "union-jimmy",
   "metadata": {},
   "outputs": [],
   "source": [
    "file.close()"
   ]
  },
  {
   "cell_type": "code",
   "execution_count": 5,
   "id": "spread-kingston",
   "metadata": {},
   "outputs": [
    {
     "ename": "FileNotFoundError",
     "evalue": "[Errno 2] No such file or directory: 'Test/HelloWorld.txt'",
     "output_type": "error",
     "traceback": [
      "\u001b[1;31m---------------------------------------------------------------------------\u001b[0m",
      "\u001b[1;31mFileNotFoundError\u001b[0m                         Traceback (most recent call last)",
      "\u001b[1;32m<ipython-input-5-5ebb6098d582>\u001b[0m in \u001b[0;36m<module>\u001b[1;34m\u001b[0m\n\u001b[1;32m----> 1\u001b[1;33m \u001b[0mfile\u001b[0m \u001b[1;33m=\u001b[0m \u001b[0mopen\u001b[0m\u001b[1;33m(\u001b[0m\u001b[1;34m\"Test/HelloWorld.txt\"\u001b[0m\u001b[1;33m,\u001b[0m \u001b[1;34m\"w+\"\u001b[0m\u001b[1;33m)\u001b[0m\u001b[1;33m\u001b[0m\u001b[1;33m\u001b[0m\u001b[0m\n\u001b[0m",
      "\u001b[1;31mFileNotFoundError\u001b[0m: [Errno 2] No such file or directory: 'Test/HelloWorld.txt'"
     ]
    }
   ],
   "source": [
    "#Take care, the function will only create the file, not the directory!\n",
    "file = open(\"Test/HelloWorld.txt\", \"w\")"
   ]
  },
  {
   "cell_type": "code",
   "execution_count": null,
   "id": "parental-tracy",
   "metadata": {},
   "outputs": [],
   "source": [
    "#If you don't specify the directory, the file will be created in project's directory.\n",
    "#If you specify the full path you need to use / or put r before \"path\""
   ]
  },
  {
   "cell_type": "code",
   "execution_count": 10,
   "id": "closing-chancellor",
   "metadata": {},
   "outputs": [
    {
     "ename": "SyntaxError",
     "evalue": "(unicode error) 'unicodeescape' codec can't decode bytes in position 2-3: truncated \\UXXXXXXXX escape (<ipython-input-10-c41573389310>, line 2)",
     "output_type": "error",
     "traceback": [
      "\u001b[1;36m  File \u001b[1;32m\"<ipython-input-10-c41573389310>\"\u001b[1;36m, line \u001b[1;32m2\u001b[0m\n\u001b[1;33m    file = open(\"C:\\Users\\Blasco\\Desktop\\EventsExample\\HelloWorld.txt\", \"w+\")\u001b[0m\n\u001b[1;37m               ^\u001b[0m\n\u001b[1;31mSyntaxError\u001b[0m\u001b[1;31m:\u001b[0m (unicode error) 'unicodeescape' codec can't decode bytes in position 2-3: truncated \\UXXXXXXXX escape\n"
     ]
    }
   ],
   "source": [
    "#Take care, the function will only create the file, not the directory!\n",
    "file = open(\"C:\\Users\\Blasco\\Desktop\\EventsExample\\HelloWorld.txt\", \"w\")"
   ]
  },
  {
   "cell_type": "code",
   "execution_count": 14,
   "id": "passing-spice",
   "metadata": {},
   "outputs": [],
   "source": [
    "#Take care, the function will only create the file, not the directory!\n",
    "file = open(\"C:/Users/Blasco/Desktop/EventsExample/HelloWorld.txt\", \"w\")\n",
    "file.close()"
   ]
  },
  {
   "cell_type": "code",
   "execution_count": 17,
   "id": "posted-soccer",
   "metadata": {},
   "outputs": [],
   "source": [
    "#Take care, the function will only create the file, not the directory!\n",
    "file = open(r\"C:\\Users\\Blasco\\Desktop\\EventsExample\\HelloWorld.txt\", \"a\")\n",
    "file.close()"
   ]
  },
  {
   "cell_type": "markdown",
   "id": "valuable-basic",
   "metadata": {},
   "source": [
    "You may noticed that there are two parameters in `open()` function. The first one is the path of the text, the second one is the **mode** it should open. You can check all modes in the [function's documentation](https://docs.python.org/3/library/functions.html#open), although here you have the main 3 ones:\n",
    "- `r`: Stands from read, it's used to allow the program to get information from the file but it can not edit it\n",
    "- `w`: Stands from write, it's used to allow the program to edit the file, but it can not read it\n",
    "- `a`: Stands from append, it's used to allow the program to add information at the end of the file"
   ]
  },
  {
   "cell_type": "code",
   "execution_count": 5,
   "id": "cutting-hundred",
   "metadata": {},
   "outputs": [],
   "source": [
    "file = open(\"HelloWorld.txt\", \"w\")\n",
    "file.write(\"Hello world\")\n",
    "file.close()"
   ]
  },
  {
   "cell_type": "code",
   "execution_count": 48,
   "id": "understood-albany",
   "metadata": {},
   "outputs": [],
   "source": [
    "file = open(\"HelloWorld.txt\", \"w\")\n",
    "file.writelines([\"Hello world\",\"\\nThat's my second line\"])\n",
    "file.close()"
   ]
  },
  {
   "cell_type": "code",
   "execution_count": 51,
   "id": "floral-mississippi",
   "metadata": {},
   "outputs": [
    {
     "name": "stdout",
     "output_type": "stream",
     "text": [
      "Hello world\n",
      "That's my second line\n",
      "Bye bye world\n"
     ]
    }
   ],
   "source": [
    "file = open(\"HelloWorld.txt\", \"r\")\n",
    "text = file.read()\n",
    "file.close()\n",
    "print(text)"
   ]
  },
  {
   "cell_type": "code",
   "execution_count": 50,
   "id": "common-grove",
   "metadata": {},
   "outputs": [],
   "source": [
    "file = open(\"HelloWorld.txt\", \"a\")\n",
    "file.write(\"\\nBye bye world\")\n",
    "file.close()"
   ]
  },
  {
   "cell_type": "code",
   "execution_count": 52,
   "id": "muslim-jesus",
   "metadata": {},
   "outputs": [
    {
     "name": "stdout",
     "output_type": "stream",
     "text": [
      "['Hello world\\n', \"That's my second line\\n\", 'Bye bye world']\n"
     ]
    }
   ],
   "source": [
    "file = open(\"HelloWorld.txt\", \"r\")\n",
    "text = file.readlines()\n",
    "file.close()\n",
    "print(text)"
   ]
  },
  {
   "cell_type": "code",
   "execution_count": 6,
   "id": "working-madonna",
   "metadata": {},
   "outputs": [
    {
     "name": "stdout",
     "output_type": "stream",
     "text": [
      "Hello world\n"
     ]
    }
   ],
   "source": [
    "with open(\"HelloWorld.txt\", \"r\") as file:\n",
    "    print(file.read())"
   ]
  },
  {
   "cell_type": "markdown",
   "id": "interstate-comfort",
   "metadata": {},
   "source": [
    "## 5.2.2 Pointer\n",
    "\n",
    "Have you tried to read twice the same file? If you do you will notice that the second time it doesn't read anything. That's because when it opens the file (in read mode) it sets the pointer at 0th position and while it reads it moves it to the last position, when you try to read for the second time, the pointer is already in the last position, so there's nothing more to read.\n",
    "\n",
    "You can reset (or move) the pointer using the `.seek()` method, or specify the position from where the `.read()` method should should start reading."
   ]
  },
  {
   "cell_type": "code",
   "execution_count": 13,
   "id": "medieval-carolina",
   "metadata": {},
   "outputs": [
    {
     "name": "stdout",
     "output_type": "stream",
     "text": [
      "\u0000\u0000\u0000\u0000\u0000\u0000\u0000\u0000\u0000\u0000Test2\n",
      "______\n",
      "\n"
     ]
    }
   ],
   "source": [
    "file = open(\"HelloWorld.txt\", \"r\")\n",
    "print(file.read())\n",
    "print(\"______\")\n",
    "print(file.read())\n",
    "file.close()\n"
   ]
  },
  {
   "cell_type": "code",
   "execution_count": 16,
   "id": "cd644433",
   "metadata": {},
   "outputs": [
    {
     "data": {
      "text/plain": [
       "_io.TextIOWrapper"
      ]
     },
     "execution_count": 16,
     "metadata": {},
     "output_type": "execute_result"
    }
   ],
   "source": [
    "type(file)"
   ]
  },
  {
   "cell_type": "code",
   "execution_count": 20,
   "id": "15697ae1",
   "metadata": {},
   "outputs": [
    {
     "name": "stdout",
     "output_type": "stream",
     "text": [
      "[]\n"
     ]
    }
   ],
   "source": [
    "file = open(\"HelloWorld.txt\", \"r\")\n",
    "a = file.read()\n",
    "b = file.readlines()\n",
    "\n",
    "print(b)\n"
   ]
  },
  {
   "cell_type": "code",
   "execution_count": 21,
   "id": "54369566",
   "metadata": {},
   "outputs": [
    {
     "data": {
      "text/plain": [
       "list"
      ]
     },
     "execution_count": 21,
     "metadata": {},
     "output_type": "execute_result"
    }
   ],
   "source": [
    "type(b)"
   ]
  },
  {
   "cell_type": "code",
   "execution_count": 71,
   "id": "flying-sarah",
   "metadata": {},
   "outputs": [
    {
     "name": "stdout",
     "output_type": "stream",
     "text": [
      "Hello world\n",
      "______\n",
      " world\n"
     ]
    }
   ],
   "source": [
    "file = open(\"HelloWorld.txt\", \"r\")\n",
    "print(file.read())\n",
    "print(\"______\")\n",
    "file.seek(5)\n",
    "print(file.read())\n",
    "file.close()\n"
   ]
  },
  {
   "cell_type": "code",
   "execution_count": 9,
   "id": "1389f576",
   "metadata": {},
   "outputs": [
    {
     "data": {
      "text/plain": [
       "10"
      ]
     },
     "execution_count": 9,
     "metadata": {},
     "output_type": "execute_result"
    }
   ],
   "source": [
    "file = open(\"HelloWorld.txt\", \"r\")\n",
    "print(file.read())\n",
    "print(\"______\")\n",
    "file.seek(5)\n",
    "print(file.read())\n",
    "file.close()\n"
   ]
  },
  {
   "cell_type": "markdown",
   "id": "respected-terrain",
   "metadata": {},
   "source": [
    "### Exercice: Guessing game\n",
    "\n",
    "<img src=\"data:image/jpeg;base64,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\" alt=\"drawing\" width=\"250\"/>\n",
    "\n",
    "Code a program that plays a guessing game with the user:\n",
    "1. It needs to read the options from file `GuessingGameOptions.txt`, where each line represents an option\n",
    "2. Asks the player if he wants to play, if not it ends the execution.\n",
    "3. Randomly selects an option\n",
    "4. If so, the program asks the player what he wants to do (clue or guess)\n",
    "5. While he selects \"clue\" he can ask if a specific character is contained in the word\n",
    "6. If he selects \"guess\" he has to write his guess, if the guess is correct the player scores a point.\n",
    "7. Asks again if he wants to keep playing (step 3)\n",
    "8. Once the player stops playing the program has to create a record file called `GuessinggameSocres.txt` with the results."
   ]
  },
  {
   "cell_type": "code",
   "execution_count": 22,
   "id": "transparent-convergence",
   "metadata": {
    "scrolled": false
   },
   "outputs": [
    {
     "name": "stdout",
     "output_type": "stream",
     "text": [
      "Do you want to play another guessing round? [Y/N]Y\n",
      "What do you want to do? [Guess/Clue]clue\n",
      "What letter do you wish to know? s\n",
      "s isn't in the word\n",
      "What do you want to do? [Guess/Clue]clue\n",
      "What letter do you wish to know? e\n",
      "e is in the word\n",
      "What do you want to do? [Guess/Clue]clue\n",
      "What letter do you wish to know? a\n",
      "a isn't in the word\n",
      "What do you want to do? [Guess/Clue]clue\n",
      "What letter do you wish to know? b\n",
      "b is in the word\n",
      "What do you want to do? [Guess/Clue]guess\n",
      "What's your guess? Bed\n",
      "You win!!!!\n",
      "********************\n",
      "********************\n",
      "Do you want to play another guessing round? [Y/N]N\n",
      "Thanks for playing!\n"
     ]
    }
   ],
   "source": [
    "import random\n",
    "\n",
    "with open(\"GuessingGameOptions.txt\", \"r\") as f:\n",
    "    options = f.readlines()\n",
    "    \n",
    "while True:\n",
    "    \n",
    "    #Loop to ask player if he wants to continue the game\n",
    "    while True:\n",
    "        \n",
    "        keep_playing = input(\"Do you want to play another guessing round? [Y/N]\").upper()\n",
    "\n",
    "        #Valid answer, stop asking\n",
    "        if keep_playing in [\"N\", \"Y\"]:\n",
    "            break\n",
    "            \n",
    "        #Force user to answer a valid option    \n",
    "        else:\n",
    "            print(\"Please, select a valid option:\\nY: to keep playing.\\nN: to exit the game.\")\n",
    "       \n",
    "    #Stop the game\n",
    "    if keep_playing == \"N\":\n",
    "        break\n",
    "    \n",
    "    guess_word = options[random.randint(0,len(options)-1)]\n",
    "    #Standarize guess word to make it non case sensitive\n",
    "    guess_word = guess_word.upper().strip()\n",
    "    \n",
    "    final_score = 0\n",
    "    #Loop for guessing game\n",
    "    while True:\n",
    "         #Loop to ask player next action\n",
    "        while True:\n",
    "\n",
    "            next_action = input(\"What do you want to do? [Guess/Clue]\").upper()\n",
    "\n",
    "            #Valid answer, stop asking\n",
    "            if next_action in [\"GUESS\", \"CLUE\"]:\n",
    "                break\n",
    "\n",
    "            #Force user to answer a valid option    \n",
    "            else:\n",
    "                print(\"Please, select a valid option:\\nGuess: to make your final guess.\\nClue: ask for another clue.\")\n",
    "                \n",
    "        if next_action == \"CLUE\":\n",
    "            \n",
    "            clue_question = input(\"What letter do you wish to know? \")\n",
    "            \n",
    "            if clue_question.upper() in guess_word:\n",
    "                print(\"{} is in the word\".format(clue_question))\n",
    "            else:\n",
    "                print(\"{} isn't in the word\".format(clue_question))\n",
    "                \n",
    "        else:\n",
    "            player_guess = input(\"What's your guess? \")\n",
    "            \n",
    "            if player_guess.upper() == guess_word:\n",
    "                final_score += 1\n",
    "                print(\"You win!!!!\")\n",
    "                print(\"*\"*20)\n",
    "                print(\"*\"*20)\n",
    "                \n",
    "            else:\n",
    "                print(\"I'm sorry the correct word was {}\".format(guess_word))\n",
    "            break\n",
    "                \n",
    "\n",
    "            \n",
    "with open(\"GuessingGameResult.txt\", \"w\") as f:\n",
    "    f.write(str(final_score))\n",
    "    \n",
    "print(\"Thanks for playing!\")"
   ]
  },
  {
   "cell_type": "markdown",
   "id": "former-belize",
   "metadata": {},
   "source": [
    "## 5.3 Binary files and serialization\n",
    "\n",
    "\n",
    "Working with text files is great but it has limited ussage. What if we need to save complex objects, like lists, dictionaries or even custom classes?\n",
    "\n",
    "If that's the case we need to **serialize** the object we want to save. For that porpouse we use a library called `pickle`."
   ]
  },
  {
   "cell_type": "code",
   "execution_count": 23,
   "id": "scenic-allowance",
   "metadata": {},
   "outputs": [],
   "source": [
    "import pickle"
   ]
  },
  {
   "cell_type": "code",
   "execution_count": 24,
   "id": "contemporary-rental",
   "metadata": {},
   "outputs": [],
   "source": [
    "en2esp = {\"one\":\"uno\",\n",
    "          \"two\":\"dos\",\n",
    "          \"three\":\"tres\",\n",
    "          \"four\":\"cuatro\"}"
   ]
  },
  {
   "cell_type": "code",
   "execution_count": 25,
   "id": "crucial-parts",
   "metadata": {},
   "outputs": [],
   "source": [
    "#Write\n",
    "with open(\"En2esp\",\"wb\") as f:\n",
    "    pickle.dump(en2esp, f)"
   ]
  },
  {
   "cell_type": "code",
   "execution_count": 26,
   "id": "marked-bandwidth",
   "metadata": {},
   "outputs": [],
   "source": [
    "#Read\n",
    "with open(\"En2esp\",\"rb\") as f:\n",
    "    d2 = pickle.load(f)"
   ]
  },
  {
   "cell_type": "code",
   "execution_count": 27,
   "id": "proud-there",
   "metadata": {
    "scrolled": true
   },
   "outputs": [
    {
     "name": "stdout",
     "output_type": "stream",
     "text": [
      "{'one': 'uno', 'two': 'dos', 'three': 'tres', 'four': 'cuatro'}\n"
     ]
    }
   ],
   "source": [
    "print(d2)"
   ]
  },
  {
   "cell_type": "markdown",
   "id": "d38ac28e",
   "metadata": {},
   "source": [
    "## 5.4 Modules\n",
    "\n",
    "Modules are Python files (*.py* o *.pyc*) that can contain variables, functions, classes or even other modules. They are used to **organize** and **reuse** the code between programs.\n",
    "\n",
    "It's **easier to mantain** a program that is modularized in multiple files that contains all the code in a huge single file.\n",
    "\n",
    "- Creating a module is as simple as creating a .py file and create there the objects we want to define.\n",
    "\n",
    "- To use a module we only need to have the module and the file we're working with in the same directory and use the instruction **import** followed by the name of the module file (without extension): `import mathfunctions`"
   ]
  },
  {
   "cell_type": "code",
   "execution_count": 1,
   "id": "1de48992",
   "metadata": {},
   "outputs": [],
   "source": [
    "import math"
   ]
  },
  {
   "cell_type": "code",
   "execution_count": 2,
   "id": "091ec048",
   "metadata": {},
   "outputs": [
    {
     "data": {
      "text/plain": [
       "120"
      ]
     },
     "execution_count": 2,
     "metadata": {},
     "output_type": "execute_result"
    }
   ],
   "source": [
    "math.factorial(5)"
   ]
  },
  {
   "cell_type": "code",
   "execution_count": 3,
   "id": "0c9f9886",
   "metadata": {},
   "outputs": [],
   "source": [
    "import math as mt"
   ]
  },
  {
   "cell_type": "code",
   "execution_count": 4,
   "id": "1c83b6ca",
   "metadata": {},
   "outputs": [
    {
     "data": {
      "text/plain": [
       "120"
      ]
     },
     "execution_count": 4,
     "metadata": {},
     "output_type": "execute_result"
    }
   ],
   "source": [
    "mt.factorial(5)"
   ]
  },
  {
   "cell_type": "code",
   "execution_count": 5,
   "id": "1954212c",
   "metadata": {},
   "outputs": [],
   "source": [
    "from math import factorial"
   ]
  },
  {
   "cell_type": "code",
   "execution_count": 6,
   "id": "02a46ed9",
   "metadata": {},
   "outputs": [
    {
     "data": {
      "text/plain": [
       "120"
      ]
     },
     "execution_count": 6,
     "metadata": {},
     "output_type": "execute_result"
    }
   ],
   "source": [
    "factorial(5)"
   ]
  },
  {
   "cell_type": "markdown",
   "id": "42462973",
   "metadata": {},
   "source": [
    "## 5.5 Share Packages\n",
    "\n",
    "Packages are *folders* that group modules.\n",
    "\n",
    "To create them we only have to create a folter with an empty file named **`__init__.py`**, if you want to add subfolders you only need to create the same empty file.\n",
    "\n",
    "We can make this packages distributable (to share with our teams or use for multiple projects).\n",
    "\n",
    "1. Create a `setup.py` in the main package folder. In this file we have to fullwill the following code:\n",
    "\n",
    "```\n",
    "from setuptools import setup\n",
    "\n",
    "setup( name= \"nameofthepackage\",\n",
    "     version = \"1.0\",\n",
    "     description = \"Description of the package\",\n",
    "     author = \"Our name or team\",\n",
    "     author_email = \"lluisbla@gmail.com\", #Optional\n",
    "     url = \"our web\", #Optional\n",
    "     packages = [\"folder1\",\"folder1.subfolder2\"])\n",
    "```\n",
    "     \n",
    "2. With the cmd set your cd in the package's directory and execute the code `python setup.py sdist`\n",
    "3. This command command should create two folders: `[name].egg-info` and `dist` (this is the important)\n",
    "4. In the `dist` folder we'll see a `.tar.gz` file, that's the file we need to share and install to use our package from anywhere.\n",
    "5. To install it we use cmd in the folder and we run the following commnad `pip3 install [file].tar.gz`\n",
    "6. To uninstall it we can run `pip3 uninstall [package_name]`"
   ]
  },
  {
   "cell_type": "code",
   "execution_count": null,
   "id": "788b1de3",
   "metadata": {},
   "outputs": [],
   "source": []
  }
 ],
 "metadata": {
  "kernelspec": {
   "display_name": "Python 3 (ipykernel)",
   "language": "python",
   "name": "python3"
  },
  "language_info": {
   "codemirror_mode": {
    "name": "ipython",
    "version": 3
   },
   "file_extension": ".py",
   "mimetype": "text/x-python",
   "name": "python",
   "nbconvert_exporter": "python",
   "pygments_lexer": "ipython3",
   "version": "3.9.13"
  }
 },
 "nbformat": 4,
 "nbformat_minor": 5
}
