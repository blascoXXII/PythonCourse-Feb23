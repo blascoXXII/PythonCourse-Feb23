{
 "cells": [
  {
   "cell_type": "markdown",
   "id": "vertical-preliminary",
   "metadata": {},
   "source": [
    "# Part 4: Best Practices & Documentation\n",
    "\n",
    "<img src=\"https://upload.wikimedia.org/wikipedia/commons/thumb/0/0a/Python.svg/800px-Python.svg.png\" alt=\"drawing\" width=\"250\"/>\n",
    "\n",
    "Until now we just have seen small exaples that you solved in minutes, but as you can imagine things are more complicated. One of the main issues that we face on our daily basis is the challenge to **understand code** that other collagues wrote or our young (and dumb) versions did. That's why it's important to write comprenhensible and clear code.\n",
    "\n",
    "In order to make things a little bit easier, one of the things that teams should have is a well defined **best practices**. Best practices are a set of **guidelines and recommendations** that help programmers write clean, maintainable, and efficient code. They can cover complex things like testing or mantainment, but also lot of simpler concepts like naming conventions or things to avoid.\n",
    "\n",
    "Python has a *easter egg* that can be used as inspiration:"
   ]
  },
  {
   "cell_type": "code",
   "execution_count": 2,
   "id": "civilian-species",
   "metadata": {},
   "outputs": [
    {
     "name": "stdout",
     "output_type": "stream",
     "text": [
      "The Zen of Python, by Tim Peters\n",
      "\n",
      "Beautiful is better than ugly.\n",
      "Explicit is better than implicit.\n",
      "Simple is better than complex.\n",
      "Complex is better than complicated.\n",
      "Flat is better than nested.\n",
      "Sparse is better than dense.\n",
      "Readability counts.\n",
      "Special cases aren't special enough to break the rules.\n",
      "Although practicality beats purity.\n",
      "Errors should never pass silently.\n",
      "Unless explicitly silenced.\n",
      "In the face of ambiguity, refuse the temptation to guess.\n",
      "There should be one-- and preferably only one --obvious way to do it.\n",
      "Although that way may not be obvious at first unless you're Dutch.\n",
      "Now is better than never.\n",
      "Although never is often better than *right* now.\n",
      "If the implementation is hard to explain, it's a bad idea.\n",
      "If the implementation is easy to explain, it may be a good idea.\n",
      "Namespaces are one honking great idea -- let's do more of those!\n"
     ]
    }
   ],
   "source": [
    "import this"
   ]
  },
  {
   "cell_type": "markdown",
   "id": "multiple-firmware",
   "metadata": {},
   "source": [
    "### Example\n",
    "\n",
    "Imagine you joined a new team and they ask you to review if this code works as it should. Can you guess what it's doing?"
   ]
  },
  {
   "cell_type": "code",
   "execution_count": 22,
   "id": "incomplete-organizer",
   "metadata": {},
   "outputs": [],
   "source": [
    "class A:\n",
    " def __init__(self,n,u):\n",
    "  self.n=n\n",
    "  self.u=u\n",
    "class B:\n",
    "    def __init__(self,i,n):\n",
    "      self.i=i\n",
    "      self.NameOfObjectBProbablyNoNeedToBeThatLong=n\n",
    "class C:\n",
    "         def __init__(self,n,i):\n",
    "              self.name_longer_than_anyone_would_like_do_you_really_need_that_detail=n\n",
    "              self.i=i\n",
    "         def ch(self,b):\n",
    "                          for a in b.i.values():\n",
    "                               if self.i.get(a.n) is None or (self.i[a.n].u < a.u)!=True:\n",
    "                                    return False\n",
    "                          return True\n",
    "def main():\n",
    " a1=A(\"A1\",1)\n",
    " A2=A('A2',2)\n",
    " a_3=A('A3',3)\n",
    " A_4=A(\"A1\",4)\n",
    " a5=A(\"A5\",6)\n",
    " a6=A(\"TE\",0)\n",
    " a7=A(\"543\",95)\n",
    " b=B({a1.n:a1,A2.n:A2},\"B1\")\n",
    " c=C(\"C1\",{A2.n:A2,a_3.n:a_3,A_4.n:A_4,a5.n:a5,a6.n:a6,a7.n:a7})\n",
    " print(c.ch(b))"
   ]
  },
  {
   "cell_type": "code",
   "execution_count": 20,
   "id": "surgical-closure",
   "metadata": {
    "scrolled": true
   },
   "outputs": [
    {
     "name": "stdout",
     "output_type": "stream",
     "text": [
      "False\n"
     ]
    }
   ],
   "source": [
    "main()"
   ]
  },
  {
   "cell_type": "markdown",
   "id": "emerging-channel",
   "metadata": {},
   "source": [
    "### PEP 8\n",
    "\n",
    "For this example, we're going to use gidlines from [PEP 8](https://peps.python.org/pep-0008/), which is an evolution of Python's creator proposed style guide. One of Guido’s key insights is that code is read much more often than it is written. The guidelines provided here are intended to improve the readability of code and make it consistent across the wide spectrum of Python code.\n",
    "\n",
    "#### Indentation\n",
    "\n",
    "- Use 4 spaces per indentation level\n",
    "- Arguments on first line forbidden when not using vertical alignment\n",
    "- An extra level of indentation to distinguish arguments from the rest.\n",
    "\n",
    "Although PEP8 recomends to use 4 spaces instead of tab, we're not going to do that. The reason of this recommendation is that depending on the text editor you use (IDE) tabs are not equal to 4 spaces."
   ]
  },
  {
   "cell_type": "code",
   "execution_count": null,
   "id": "loose-leave",
   "metadata": {},
   "outputs": [],
   "source": []
  },
  {
   "cell_type": "code",
   "execution_count": null,
   "id": "sunset-details",
   "metadata": {},
   "outputs": [],
   "source": []
  },
  {
   "cell_type": "markdown",
   "id": "occupied-spokesman",
   "metadata": {},
   "source": [
    "#### Blanck spaces\n",
    "\n",
    "- Surround top-level function and class definitions with two blank lines.\n",
    "- Method definitions inside a class are surrounded by a single blank line.\n",
    "- Use blank lines in functions, sparingly, to indicate logical sections."
   ]
  },
  {
   "cell_type": "code",
   "execution_count": null,
   "id": "organized-reward",
   "metadata": {},
   "outputs": [],
   "source": []
  },
  {
   "cell_type": "code",
   "execution_count": null,
   "id": "bibliographic-talent",
   "metadata": {},
   "outputs": [],
   "source": []
  },
  {
   "cell_type": "markdown",
   "id": "royal-insured",
   "metadata": {},
   "source": [
    "#### Whitespace in Expressions and Statements\n",
    "\n",
    "- Whitespace before and after assignment statement\n",
    "- Whitespace between elements in sequences\n",
    "\n",
    "**Avoid** using whitespaces in the following situations:\n",
    "- Inmediatly before a parenthesis, braket, semicolon...\n",
    "- Before the first element of a sequence or after the last one\n",
    "- Using more than one whitespace around an assignment"
   ]
  },
  {
   "cell_type": "code",
   "execution_count": null,
   "id": "stretch-square",
   "metadata": {},
   "outputs": [],
   "source": []
  },
  {
   "cell_type": "code",
   "execution_count": null,
   "id": "canadian-department",
   "metadata": {},
   "outputs": [],
   "source": []
  },
  {
   "cell_type": "markdown",
   "id": "combined-server",
   "metadata": {},
   "source": [
    "#### Naming conventions\n",
    "\n",
    "There are a lot of different naming styles. It helps to be able to recognize what naming style is being used, independently from what they are used for.\n",
    "\n",
    "The following naming styles are commonly distinguished:\n",
    "\n",
    "- `b` (single lowercase letter)\n",
    "- `B` (single uppercase letter)\n",
    "- `lowercase`\n",
    "- `lower_case_with_underscores`\n",
    "- `UPPERCASE`\n",
    "- `UPPER_CASE_WITH_UNDERSCORES`\n",
    "- `CapitalizedWords` (or CapWords, or CamelCase). This is also sometimes known as StudlyCaps.\n",
    "- `mixedCase` (differs from CapitalizedWords by initial lowercase character!)\n",
    "- `Capitalized_Words_With_Underscores` (ugly!)\n",
    "\n",
    "We're going to use different convention depending on the *thing* we're defining. But there are two rules that you always should follow:\n",
    "- Your names must be **ASCII compatible**\n",
    "- Names should be informative (avoid having names like string_var_1, int_number..., a, b)\n",
    "\n",
    "\n",
    "Conventions we're going to follow depending on the case:\n",
    "- For classes we're going to use `CapitalizedWords`\n",
    "- For variables, functions, attributes and methods we're going to use `lower_case_wiht_underscores``\n",
    "- For constants (variables that are usually *hard-coded* at the beggining of the code) we're going to use `UPPER_CASE_WITH_UNDERSCORES`\n",
    "\n",
    "**Note for the example**: To name properly the variables, we need to know what this code does. Actually, it checks if a specific kitchen station has enough ingredients to prepare a specific recipe."
   ]
  },
  {
   "cell_type": "code",
   "execution_count": null,
   "id": "bright-humanity",
   "metadata": {},
   "outputs": [],
   "source": []
  },
  {
   "cell_type": "code",
   "execution_count": null,
   "id": "champion-dragon",
   "metadata": {},
   "outputs": [],
   "source": []
  },
  {
   "cell_type": "markdown",
   "id": "dressed-picnic",
   "metadata": {},
   "source": [
    "#### Docstrings\n",
    "\n",
    "A docstring is a string used to document a Python module, class, function or method, so programmers can understand what it does without having to read the details of the implementation.\n",
    "\n",
    "To defined it you need to enclose your text with triple *'* or triple *\"*\n",
    "\n",
    "The reason docstrings are better than multiple sinle line comments (#) is that you can print docstrings from the console (so you don't need to go to the function or class definition to read them)."
   ]
  },
  {
   "cell_type": "code",
   "execution_count": null,
   "id": "magnetic-impossible",
   "metadata": {},
   "outputs": [],
   "source": []
  },
  {
   "cell_type": "code",
   "execution_count": null,
   "id": "advisory-royalty",
   "metadata": {},
   "outputs": [],
   "source": []
  },
  {
   "cell_type": "code",
   "execution_count": null,
   "id": "welsh-discussion",
   "metadata": {},
   "outputs": [],
   "source": []
  },
  {
   "cell_type": "markdown",
   "id": "usual-vacuum",
   "metadata": {},
   "source": [
    "#### Comments\n",
    "\n",
    "- Comments that **contradict the code are worse than no comments**. Always make a priority of keeping the comments up-to-date when the code changes!\n",
    "\n",
    "- Comments should be complete sentences\n",
    "\n",
    "- You should use two spaces after a sentence-ending period in multi- sentence comments, except after the final sentence\n",
    "\n",
    "- Ensure that your comments are clear and easily understandable\n",
    "\n",
    "- Write your comments in English (or your company's official lenguage)"
   ]
  },
  {
   "cell_type": "code",
   "execution_count": null,
   "id": "embedded-impossible",
   "metadata": {},
   "outputs": [],
   "source": []
  },
  {
   "cell_type": "code",
   "execution_count": null,
   "id": "former-silence",
   "metadata": {},
   "outputs": [],
   "source": []
  }
 ],
 "metadata": {
  "kernelspec": {
   "display_name": "Python 3",
   "language": "python",
   "name": "python3"
  },
  "language_info": {
   "codemirror_mode": {
    "name": "ipython",
    "version": 3
   },
   "file_extension": ".py",
   "mimetype": "text/x-python",
   "name": "python",
   "nbconvert_exporter": "python",
   "pygments_lexer": "ipython3",
   "version": "3.7.4"
  }
 },
 "nbformat": 4,
 "nbformat_minor": 5
}
