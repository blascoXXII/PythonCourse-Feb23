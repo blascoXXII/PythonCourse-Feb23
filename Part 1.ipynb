{
 "cells": [
  {
   "cell_type": "markdown",
   "id": "better-police",
   "metadata": {},
   "source": [
    "# Part 1: First Steps\n",
    "\n",
    "<img src=\"https://upload.wikimedia.org/wikipedia/commons/thumb/0/0a/Python.svg/800px-Python.svg.png\" alt=\"drawing\" width=\"250\"/>\n"
   ]
  },
  {
   "cell_type": "markdown",
   "id": "extensive-closure",
   "metadata": {},
   "source": [
    "## 1. 1 Your first program\n",
    "\n",
    "Jupyter notebooks works in **cells**. Every cell can be run indentepdentlly from the others and its output is displeyed indetiatlly below it.\n",
    "\n",
    "Variables are saved, so you can reuse it later in other jupyter cells.\n",
    "\n",
    "\n",
    "### 1.1.1 How to run cells?\n",
    "\n",
    "You have multiple options to run cells. You can use the \"Run\" button on the top of the window or use the shortcut \"Ctr + Enter\" to execute the current cell.\n",
    "\n",
    "Also in the \"Cell\" menu you have other running options like run all below/above this cell or runn all cells.\n",
    "\n",
    "### 1.1.2 Print function\n",
    "\n",
    "Traditionally, the first exercice everyone tries when learning a new lenguage is to create a program that prints (shows in the console or in the cell's output) the sentence *Hello World*. Since is a common exercice in all lenguages, you can easily compare how different two coding lenguages are, I invite you to check [how this exercice is solved in other coding lenguages](https://www.geeksforgeeks.org/hello-world-in-30-different-languages/). \n",
    "\n",
    "In Python this program is really simple, we only have to use the command *print()*, and put the message we want to print between the parenthesis, with 'quotes' or \"double quotes\".\n"
   ]
  },
  {
   "cell_type": "code",
   "execution_count": null,
   "id": "sonic-irish",
   "metadata": {},
   "outputs": [],
   "source": []
  },
  {
   "cell_type": "markdown",
   "id": "voluntary-conference",
   "metadata": {},
   "source": [
    "## 1.2 Arithmetic operators\n",
    "\n",
    "\n",
    "Python provides **operators**, which are special symbols that represent computations:\n",
    "   - \\+ is for addition\n",
    "   - \\- is for substraction\n",
    "   - \\* is for multiplication\n",
    "   -  \\/ is for division\n",
    "   -  \\** is for exponentiation\n",
    "   - \\ // is for floor divistion (divides two numbers and rouds down)\n",
    "   - \\ % modulus (divides two numbers and returns the remainder)"
   ]
  },
  {
   "cell_type": "code",
   "execution_count": null,
   "id": "formed-bidder",
   "metadata": {},
   "outputs": [],
   "source": []
  },
  {
   "cell_type": "markdown",
   "id": "enhanced-translation",
   "metadata": {},
   "source": [
    "### 1.2.1 Order operations\n",
    "\n",
    "When a command contains more than one operater, the order of evaluation depends on the order of operations. For mathematical operators, PYthon follows a methematical convention (acronym **PEMDAS** is a useful way to remember):\n",
    "\n",
    " - **P**arentheses\n",
    " - **E**xponentiation\n",
    " - **M**ultiplication and **D**ivision\n",
    " - **A**ddition and **S**ubstraction\n",
    " -Operators with the same precendece are evaluated from left to right\n",
    " "
   ]
  },
  {
   "cell_type": "code",
   "execution_count": null,
   "id": "unlimited-trial",
   "metadata": {},
   "outputs": [],
   "source": []
  },
  {
   "cell_type": "markdown",
   "id": "fantastic-bunny",
   "metadata": {},
   "source": [
    "### 1.2.2 String operations\n",
    "\n",
    "You can't perform mathematical operations on strings, even if they look like numbers. But there are two exceptions, + and *:\n",
    " - If you sum (+) two or more strings you will concatenate them from the element in left to the element in the right. Note that this opperation **doesn't add white spaces** between the strings.\n"
   ]
  },
  {
   "cell_type": "code",
   "execution_count": null,
   "id": "enormous-network",
   "metadata": {},
   "outputs": [],
   "source": []
  },
  {
   "cell_type": "markdown",
   "id": "radio-equation",
   "metadata": {},
   "source": [
    "### 1.2.3 Boolean operations\n",
    "\n",
    "If you try to perform operations with boolean variables, Python will **implicitly change** them into 1 (True) or 0 (False).\n"
   ]
  },
  {
   "cell_type": "code",
   "execution_count": null,
   "id": "perfect-bruce",
   "metadata": {},
   "outputs": [],
   "source": []
  },
  {
   "cell_type": "markdown",
   "id": "typical-filing",
   "metadata": {},
   "source": [
    "## 1.3 Types & Variables\n",
    "### 1.3.1 Types\n",
    "\n",
    "Did you realized that the output variable displayed by \"4-2\" is different from the one displayed by (4/2)?\n",
    "That's because every **value** belongs to a specific **type**.\n",
    "For now we are going to work with basic types:\n",
    " - **Integers**: Numeric values without floating-point number (decimals)\n",
    " - **Floats**: Numeric values with floating-point number\n",
    " - **Strings**: Alphabetic characters\n",
    " - **Booleans**: True/False\n",
    " \n",
    "If you are not sure what type a value has, you can know it by using: type(*variable*)"
   ]
  },
  {
   "cell_type": "code",
   "execution_count": null,
   "id": "micro-flesh",
   "metadata": {},
   "outputs": [],
   "source": []
  },
  {
   "cell_type": "markdown",
   "id": "compliant-eagle",
   "metadata": {},
   "source": [
    "### 1.3.2 Assigment\n",
    "\n",
    "An **assigment statement** creates a new variable and gives it a value."
   ]
  },
  {
   "cell_type": "code",
   "execution_count": null,
   "id": "comparable-seminar",
   "metadata": {},
   "outputs": [],
   "source": []
  },
  {
   "cell_type": "markdown",
   "id": "civil-soundtrack",
   "metadata": {},
   "source": [
    "### 1.3.3 Assigment rules\n",
    "\n",
    "While your program grows the difficult to read it grows too. Thats why programmers generally choose meaningful names to the variables they create. We're going to talk deeper about this topic in the following sessions.\n",
    "But for now, you should know that there are 3 things that **variables name can not have**:\n",
    " - **Start with a numerical character**\n",
    " - **Contain illegal character** such as *@*, *#* or *$*\n",
    " - Be the same that **Python keywords**, such as *False* or *True*\n",
    " \n",
    " Tip: Most of the IDEs disply this characters or words in a different format so you'll notice that you're doing something wrong with the assigment. Check the following examples:\n",
    " \n"
   ]
  },
  {
   "cell_type": "code",
   "execution_count": null,
   "id": "cognitive-thailand",
   "metadata": {},
   "outputs": [],
   "source": []
  },
  {
   "cell_type": "markdown",
   "id": "female-universe",
   "metadata": {},
   "source": [
    "### 1.3.4 Example\n",
    "\n",
    "Suppose that we want to create a program that prints the wholesale cost for a book store.\n",
    "We know that the cost is based on the selling price of the book (24.95€), the discount the store has negotiated (40%), the shipping cost of the first unit (3€) and the shipping cost for extra units (0.75€)."
   ]
  },
  {
   "cell_type": "code",
   "execution_count": null,
   "id": "therapeutic-outside",
   "metadata": {},
   "outputs": [],
   "source": []
  },
  {
   "cell_type": "markdown",
   "id": "ranging-design",
   "metadata": {},
   "source": [
    "## 1.4 Functions"
   ]
  },
  {
   "cell_type": "markdown",
   "id": "serial-wilson",
   "metadata": {},
   "source": [
    "A **function** is a named sequence of statements that performs a computation.\n",
    "We can say that a function *takes* arguments (inptus) and *returns* results (outputs).\n",
    "\n",
    "\n",
    "Inputs ---> Function ---> Output [Ficar diagrama o algo]"
   ]
  },
  {
   "cell_type": "markdown",
   "id": "stone-connection",
   "metadata": {},
   "source": [
    "### 1.4.1 Built-in functions\n",
    "\n",
    "Python has some **built-in functions**. We've already seen a couple of examples for the functions *print* and *type*. Let's see some other fucntions that transform variables from one type to another:\n",
    "\n",
    " - int() function transforms the given input to a integer\n",
    " - float() function transforms the given input to a float\n",
    " - str() function transforms the given input to a string\n",
    " - len()\n",
    " \n",
    "We are going to see more of these functions during the sessions, but if you want you can check the [list of all built-in functions in Python](https://docs.python.org/3/library/functions.html)."
   ]
  },
  {
   "cell_type": "code",
   "execution_count": null,
   "id": "behind-november",
   "metadata": {},
   "outputs": [],
   "source": []
  },
  {
   "cell_type": "markdown",
   "id": "limiting-nancy",
   "metadata": {},
   "source": [
    "### 1.4.2 Import functions from modules\n",
    "\n",
    "A **module** is a file that contains a collection of related functions (and objects, as we will see in another session). As we've installed Python thorugh Anaconda, we already have most of the commonly used modules, so we can work with them direclty.\n",
    "\n",
    "In order to use this modules the first we need to do is *import* the module we want to use. If we try to use this functions before importing the module we will get an error."
   ]
  },
  {
   "cell_type": "code",
   "execution_count": null,
   "id": "desirable-colon",
   "metadata": {},
   "outputs": [],
   "source": []
  },
  {
   "cell_type": "markdown",
   "id": "settled-corner",
   "metadata": {},
   "source": [
    "## Exercice break\n",
    "<img src=\"data:image/jpeg;base64,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\" alt=\"drawing\" width=\"250\"/>\n",
    "\n",
    "\n",
    "\n",
    "##### Question 1: In a print statement, what happends if you leave out one of the parentheses, of both?\n",
    "\n",
    "##### Question 2: What happens if you have two values with no operator between them?\n",
    "\n",
    "##### Question 3: In maths, leading zeros are okay, as in 02. What happens if you try this in Python?\n",
    "\n",
    "##### Question 4: What is the volume of a sphere with radius 5? Hint: The formula to calculate the volume of a sphere is 4/3 x pi x  r^3"
   ]
  },
  {
   "cell_type": "code",
   "execution_count": null,
   "id": "fuzzy-theta",
   "metadata": {},
   "outputs": [],
   "source": [
    "#Question 1\n"
   ]
  },
  {
   "cell_type": "code",
   "execution_count": null,
   "id": "perceived-irrigation",
   "metadata": {},
   "outputs": [],
   "source": [
    "#Question 2\n"
   ]
  },
  {
   "cell_type": "code",
   "execution_count": null,
   "id": "entitled-royalty",
   "metadata": {},
   "outputs": [],
   "source": [
    "#Question 3\n"
   ]
  },
  {
   "cell_type": "code",
   "execution_count": null,
   "id": "prostate-fiber",
   "metadata": {},
   "outputs": [],
   "source": [
    "#Question 4\n"
   ]
  },
  {
   "cell_type": "markdown",
   "id": "upset-visit",
   "metadata": {},
   "source": [
    "### 1.4.3 Add new functions\n",
    "\n",
    "A **function definition** specifies the name of a new function and the sequence of statements that run when the function is called.\n",
    "\n",
    "The rules for functions names are the same as for variable names.\n",
    "\n",
    "To difine a function we use the *keyword* **def** followed by the name of our function with parentheses and semicolon after it (this part is known as **header**). Then we need to put what the function does, we'll do that in the lines after the header with intendation. To end the function, you have to stop the indentation.\n",
    "\n",
    "Although you can assign new variables inside the function definition, those variables won't be available outside the function, they are **local**."
   ]
  },
  {
   "cell_type": "code",
   "execution_count": null,
   "id": "exact-necessity",
   "metadata": {},
   "outputs": [],
   "source": []
  },
  {
   "cell_type": "markdown",
   "id": "dependent-parks",
   "metadata": {},
   "source": [
    "Defining a function creates a **function object**.\n",
    "\n",
    "The syntax for calling a new function is the same as for built-in functions."
   ]
  },
  {
   "cell_type": "code",
   "execution_count": null,
   "id": "finite-utilization",
   "metadata": {},
   "outputs": [],
   "source": []
  },
  {
   "cell_type": "markdown",
   "id": "ordinary-pharmaceutical",
   "metadata": {},
   "source": [
    "### 1.4.4 Parameters and arguments\n",
    "\n",
    "Usually we would like to generalize our functions. For example, our previous function isn't that much useful if it can only print *Hello world*, it would be better if we could decide what it prints. That is what a parameter is for.\n",
    "\n",
    "A **parameter** is a variables that its value will be defined when the funciton is called. And the value that we give to a parameter is called **argument**\n",
    "\n",
    "To define paramenters we only need to put them inside the parentheses when we're defining a new function."
   ]
  },
  {
   "cell_type": "code",
   "execution_count": null,
   "id": "dense-increase",
   "metadata": {},
   "outputs": [],
   "source": []
  },
  {
   "cell_type": "markdown",
   "id": "caring-briefing",
   "metadata": {},
   "source": [
    "If we call a function that expects arguments without them, we'll get an error.\n",
    "\n",
    "We will get an error too if we try to pass more arguments than the expected ones"
   ]
  },
  {
   "cell_type": "code",
   "execution_count": null,
   "id": "nonprofit-prize",
   "metadata": {},
   "outputs": [],
   "source": []
  },
  {
   "cell_type": "markdown",
   "id": "mineral-mailman",
   "metadata": {},
   "source": [
    "Also we can set **pre-defined values** for our arguments, in this case, if we call a function wihtout parameters, it will use the pre-defined ones."
   ]
  },
  {
   "cell_type": "code",
   "execution_count": null,
   "id": "timely-rugby",
   "metadata": {},
   "outputs": [],
   "source": []
  },
  {
   "cell_type": "markdown",
   "id": "legitimate-sympathy",
   "metadata": {},
   "source": [
    "### 1.4.5 Functions outputs\n",
    "\n",
    "The functions that we used from math module, not only do things but they give back a value. That's something that we need to define in our functions with the keyword **return** followed by the variable we want to give as output.\n",
    "\n",
    "**Note**: The **return** keyword **terminates the function** that means that any code below that won't be executed. That's why usually it should be placed at the end of the function definition"
   ]
  },
  {
   "cell_type": "code",
   "execution_count": null,
   "id": "central-reservoir",
   "metadata": {},
   "outputs": [],
   "source": []
  },
  {
   "cell_type": "markdown",
   "id": "graduate-vertical",
   "metadata": {},
   "source": [
    "### 1.4.6 Example\n",
    "\n",
    "We will transform the code from 1.3.4 into functions.\n",
    "Suppose that we want to create a program that prints the wholesale cost for a book store.\n",
    "We know that the cost is based on the selling price of the book (24.95€), the discount the store has negotiated (40%), the shipping cost of the first unit (3€) and the shipping cost for extra units (0.75€)."
   ]
  },
  {
   "cell_type": "code",
   "execution_count": null,
   "id": "spread-harvard",
   "metadata": {},
   "outputs": [],
   "source": []
  },
  {
   "cell_type": "code",
   "execution_count": null,
   "id": "fundamental-netherlands",
   "metadata": {},
   "outputs": [],
   "source": []
  },
  {
   "cell_type": "markdown",
   "id": "latin-briefing",
   "metadata": {},
   "source": [
    "## Exercice break\n",
    "<img src=\"data:image/jpeg;base64,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\" alt=\"drawing\" width=\"250\"/>\n",
    "\n",
    "\n",
    "\n",
    "##### Exercice 1: Write a function that computes the volume of a sphere given it's radius. Hint: The formula to calculate the volume of a sphere is 4/3 x pi x  r^3\n",
    "\n",
    "##### Exercice 2: Write a function named *right_justify* that prints the given string with the decided number of white spaces before it (two arguments)."
   ]
  },
  {
   "cell_type": "code",
   "execution_count": null,
   "id": "occupied-scottish",
   "metadata": {},
   "outputs": [],
   "source": [
    "#Exercice 1\n",
    "\n"
   ]
  },
  {
   "cell_type": "code",
   "execution_count": null,
   "id": "animated-investment",
   "metadata": {},
   "outputs": [],
   "source": [
    "#Exercice 2\n",
    "\n"
   ]
  },
  {
   "cell_type": "markdown",
   "id": "forbidden-least",
   "metadata": {},
   "source": [
    "### 1.4.7 Comments\n",
    "\n",
    "The complexity of your programs will increase exponentialy while you add functions, variables and so on. In order to help future developers (or even the future you) it's a good practice to comment your code explaining what the program is doing and the logic behind it.\n",
    "\n",
    "Comments are **lines that the interpretor ignores**, so they are not considered part of the program. To add this *comments* you only need to put a *#* and then the interpretor will ignore the rest of the line. Let's put an example based on the books wholesale function:"
   ]
  },
  {
   "cell_type": "code",
   "execution_count": null,
   "id": "sharing-thickness",
   "metadata": {},
   "outputs": [],
   "source": []
  },
  {
   "cell_type": "markdown",
   "id": "strange-genealogy",
   "metadata": {},
   "source": [
    "When adding comments to your code, try to avoid redundant notes. That means that you don't have to describe literaly what your code is doing (you can read the code direclty), but the context or the extra information that is related to the code.\n",
    "\n",
    "For example, imagine that you're defining a variable (*v*) that is the velocity of an object:"
   ]
  },
  {
   "cell_type": "code",
   "execution_count": null,
   "id": "integrated-party",
   "metadata": {},
   "outputs": [],
   "source": []
  },
  {
   "cell_type": "markdown",
   "id": "similar-upset",
   "metadata": {},
   "source": [
    "## 1.5 Logical operators"
   ]
  },
  {
   "cell_type": "markdown",
   "id": "bibliographic-sullivan",
   "metadata": {},
   "source": [
    "#### 1.5.1 Boolean expressions\n",
    "\n",
    "A **boolean expression** is an expression that is either *true* or *false*. In order to creathe this expressions we need to use **relational operators**:\n",
    " - == : Are two variables equal?\n",
    " - != : Are two variables different (not equal)?\n",
    " - \\> : Is first variable (left) greater than second one (right)?\n",
    " - \\>= : Is first variable greater or equal to second one?\n",
    " - \\< : Is first variable lower than second one?\n",
    " - \\<= : Is first variable lower or equal to second one?"
   ]
  },
  {
   "cell_type": "code",
   "execution_count": null,
   "id": "greater-cache",
   "metadata": {},
   "outputs": [],
   "source": []
  },
  {
   "cell_type": "code",
   "execution_count": null,
   "id": "junior-posting",
   "metadata": {},
   "outputs": [],
   "source": []
  },
  {
   "cell_type": "markdown",
   "id": "acute-intro",
   "metadata": {},
   "source": [
    "#### 1.5.2 Logical Operators\n",
    "\n",
    "There are three **logical operators**: *and*, *or* and *not*, their meaning is similar to their meaning in English.\n",
    "\n",
    "Strictly speaking, the operands of the logical operators should be boolean expressions. But Python is not very strct. Any nonzero number or non empy string is interpreted as *True*"
   ]
  },
  {
   "cell_type": "code",
   "execution_count": null,
   "id": "emerging-temperature",
   "metadata": {},
   "outputs": [],
   "source": []
  },
  {
   "cell_type": "code",
   "execution_count": null,
   "id": "narrow-gossip",
   "metadata": {},
   "outputs": [],
   "source": []
  },
  {
   "cell_type": "markdown",
   "id": "restricted-printing",
   "metadata": {},
   "source": [
    "#### 1.5.3 Conditional Execution\n",
    "\n",
    "**Conditional statements** give us the ability to check conditions and change the behaviour of the program accordingly.\n",
    "\n",
    "Conditional statements have the **same structure as function** definitions: a header followed by an intended body."
   ]
  },
  {
   "cell_type": "code",
   "execution_count": null,
   "id": "ancient-blink",
   "metadata": {},
   "outputs": [],
   "source": []
  },
  {
   "cell_type": "markdown",
   "id": "narrative-acrylic",
   "metadata": {},
   "source": [
    "One conditional can also be nested within another, but **nested conditionals become difficult to read**. It is a good idea to avoid them when you can."
   ]
  },
  {
   "cell_type": "code",
   "execution_count": null,
   "id": "hired-detail",
   "metadata": {},
   "outputs": [],
   "source": []
  },
  {
   "cell_type": "markdown",
   "id": "numeric-trust",
   "metadata": {},
   "source": [
    "#### 1.5.4 *While* loop\n",
    "\n",
    "*While* statements is used to perform the repeat the same block of commands util de condition is broken. To uset it you only need to use the *keyword while* followed by a conditional (or a Boolean variable).\n",
    "\n",
    "It's important to notice that the condition is checked before each iteration (each time the program performs the block of code).\n",
    "\n",
    "**WARNING**: Make sure than there's some logic **inside the loop** that breaks the *while* condition, otherwise you will get an **infinite loop** and that's something that usually you don't want to."
   ]
  },
  {
   "cell_type": "code",
   "execution_count": null,
   "id": "comparable-employer",
   "metadata": {},
   "outputs": [],
   "source": []
  },
  {
   "cell_type": "markdown",
   "id": "consistent-doctor",
   "metadata": {},
   "source": [
    "##### Example: Log-in system\n",
    "\n",
    "Create a program that simulates a password-protected login system. The user should be able to enter their username and password. If the username and password match a predefined set of credentials, the program should grant access. If not, the program should ask the user to try again. The program should continue to run until the user enters the correct username and password."
   ]
  },
  {
   "cell_type": "code",
   "execution_count": null,
   "id": "preceding-float",
   "metadata": {},
   "outputs": [],
   "source": []
  },
  {
   "cell_type": "markdown",
   "id": "chronic-anger",
   "metadata": {},
   "source": [
    "#### 1.5.5 Recursion\n",
    "\n",
    "A function that calls itself is **recursive**, the process of executing it is called **recursion**. This kind of functions have a **base case**, a scenario that doesn't make a recursive called, so the function can finish."
   ]
  },
  {
   "cell_type": "code",
   "execution_count": null,
   "id": "verbal-singapore",
   "metadata": {},
   "outputs": [],
   "source": []
  },
  {
   "cell_type": "markdown",
   "id": "following-butterfly",
   "metadata": {},
   "source": [
    "If a recursion function never reaches a base case, it will call itself forever and the progarm never terminates. This is known as **infinite recursion**.\n",
    "\n",
    "Luckily, in Python, this functions don't really run forever, Python reports an error message when the maximum recursion depth is reached (1000)"
   ]
  },
  {
   "cell_type": "markdown",
   "id": "hearing-citation",
   "metadata": {},
   "source": [
    "#### Example: Fibonacci Number\n",
    "<img src=\"https://www.mathsisfun.com/numbers/images/fibonacci-spiral.svg\" alt=\"drawing\" width=\"400\"/>\n",
    "\n",
    "\n",
    "One of the most common example of recursively defined mathematical function is [Fibonacci](https://en.wikipedia.org/wiki/Fibonacci_number):\n",
    "```\n",
    "    fibonacci(0) = 0\n",
    "    fibonacci(1) = 1\n",
    "    fibonacci(n) = fibonacci(n-1) + fibonacci(n-2)\n",
    "```\n",
    "\n",
    "Can you translate that into a recursive function called `fibonacci()`?"
   ]
  },
  {
   "cell_type": "markdown",
   "id": "permanent-perry",
   "metadata": {},
   "source": [
    "## Exercice: Pebble game\n",
    "<img src=\"https://eightygames.files.wordpress.com/2013/07/20130731-141453.jpg\" alt=\"drawing\" width=\"400\"/>\n",
    "\n",
    "\n",
    "\n",
    "Program a two-player game in which there are *n* initial pebbles on a table. The players take turns, removing either one or two pebbles from the table, and **the player who removes the final pebble wins**. Suppose that Alice and Bob play this game, each using a simple strategy:\n",
    "\n",
    " - Alice always removes a single pebble\n",
    " - Bob removes two pebbles if an even number of pebbles is on the table, and one otherwise\n",
    " \n",
    "Given n initial pebbles and Alice starting, who wins the game?\n",
    "\n",
    "**Hint**: A natural decomposition of this problem is to encapsulate each strategy in its own function. This allows us to modify one strategy without affecting the other, maintaining the abstraction barrier between the two. In order to incorporate the turn-by-turn nature of the game, these two functions call each other at the end of each turn."
   ]
  },
  {
   "cell_type": "code",
   "execution_count": null,
   "id": "referenced-namibia",
   "metadata": {},
   "outputs": [],
   "source": []
  },
  {
   "cell_type": "code",
   "execution_count": null,
   "id": "tropical-scientist",
   "metadata": {},
   "outputs": [],
   "source": []
  }
 ],
 "metadata": {
  "kernelspec": {
   "display_name": "Python 3",
   "language": "python",
   "name": "python3"
  },
  "language_info": {
   "codemirror_mode": {
    "name": "ipython",
    "version": 3
   },
   "file_extension": ".py",
   "mimetype": "text/x-python",
   "name": "python",
   "nbconvert_exporter": "python",
   "pygments_lexer": "ipython3",
   "version": "3.7.4"
  }
 },
 "nbformat": 4,
 "nbformat_minor": 5
}
