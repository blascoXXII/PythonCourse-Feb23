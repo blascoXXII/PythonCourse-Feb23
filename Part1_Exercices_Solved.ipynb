{
 "cells": [
  {
   "cell_type": "code",
   "execution_count": 4,
   "id": "42645f21",
   "metadata": {},
   "outputs": [],
   "source": [
    "#Exercice 1\n",
    "\n",
    "def average_check():\n",
    "    \n",
    "    n1 = int(input(\"Enter first number: \"))\n",
    "    n2 = int(input(\"Enter second number: \"))\n",
    "    n3 = int(input(\"Enter third number: \"))\n",
    "    \n",
    "    avg = (n1+n2+n3)/3\n",
    "    \n",
    "    if avg< n1:\n",
    "        print(\"The average of sum of {0}, {1}, {2} is lower than {0}\".format(n1, n2, n3))"
   ]
  },
  {
   "cell_type": "code",
   "execution_count": 5,
   "id": "634f3799",
   "metadata": {},
   "outputs": [
    {
     "name": "stdout",
     "output_type": "stream",
     "text": [
      "Enter first number: 3\n",
      "Enter second number: 2\n",
      "Enter third number: 1\n",
      "The average of sum of 3, 2, 1 is lower than 3\n"
     ]
    }
   ],
   "source": [
    "average_check()"
   ]
  },
  {
   "cell_type": "code",
   "execution_count": 11,
   "id": "955c2aef",
   "metadata": {},
   "outputs": [],
   "source": [
    "#Exercice 2\n",
    "\n",
    "def factorial(num):\n",
    "    if num < 0:\n",
    "        print(\"Cannot compute factorial of \"+str(num))\n",
    "        return\n",
    "    elif num == 0 or num == 1:\n",
    "        return 1\n",
    "    else:\n",
    "        return (num * calculoFatorial(num-1))"
   ]
  },
  {
   "cell_type": "code",
   "execution_count": 13,
   "id": "4c350ebb",
   "metadata": {},
   "outputs": [
    {
     "name": "stdout",
     "output_type": "stream",
     "text": [
      "24\n",
      "1\n",
      "Cannot compute factorial of -4\n"
     ]
    }
   ],
   "source": [
    "print(factorial(4))\n",
    "print(factorial(0))\n",
    "factorial(-4)"
   ]
  },
  {
   "cell_type": "code",
   "execution_count": 17,
   "id": "cec9bd9b",
   "metadata": {},
   "outputs": [],
   "source": [
    "#Exercice 3\n",
    "\n",
    "import random\n",
    "\n",
    "def guess_number():\n",
    "    \n",
    "    #randint doesn't include the stopper number (second argument)\n",
    "    number = random.randint(1,101)\n",
    "    \n",
    "    guess = 0\n",
    "    attempts = 0\n",
    "    \n",
    "    while guess != number:\n",
    "        \n",
    "        guess = int(input(\"Guess the number between 0 and 100: \"))\n",
    "        \n",
    "        if number > guess:\n",
    "            print(\"The number is greater than {}\".format(guess))\n",
    "        elif number < guess:\n",
    "            print(\"The number is lower than {}\".format(guess))\n",
    "            \n",
    "        attempts += 1\n",
    "        \n",
    "    print(\"Congratulations, the number was {}. It took {} attempts to guess it\".format(number, attempts))\n",
    "        \n",
    "        "
   ]
  },
  {
   "cell_type": "code",
   "execution_count": 18,
   "id": "7994dfb4",
   "metadata": {},
   "outputs": [
    {
     "name": "stdout",
     "output_type": "stream",
     "text": [
      "Guess the number between 0 and 100: 50\n",
      "The number is lower than 50\n",
      "Guess the number between 0 and 100: 25\n",
      "The number is greater than 25\n",
      "Guess the number between 0 and 100: 37\n",
      "The number is greater than 37\n",
      "Guess the number between 0 and 100: 45\n",
      "Congratulations, the number was 45. It took 4 attempts to guess it\n"
     ]
    }
   ],
   "source": [
    "guess_number()"
   ]
  }
 ],
 "metadata": {
  "kernelspec": {
   "display_name": "Python 3 (ipykernel)",
   "language": "python",
   "name": "python3"
  },
  "language_info": {
   "codemirror_mode": {
    "name": "ipython",
    "version": 3
   },
   "file_extension": ".py",
   "mimetype": "text/x-python",
   "name": "python",
   "nbconvert_exporter": "python",
   "pygments_lexer": "ipython3",
   "version": "3.9.13"
  }
 },
 "nbformat": 4,
 "nbformat_minor": 5
}
