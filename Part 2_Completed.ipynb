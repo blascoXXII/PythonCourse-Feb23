{
 "cells": [
  {
   "cell_type": "markdown",
   "id": "committed-egyptian",
   "metadata": {},
   "source": [
    "# Part 2: Data Structures\n",
    "\n",
    "<img src=\"https://upload.wikimedia.org/wikipedia/commons/thumb/0/0a/Python.svg/800px-Python.svg.png\" alt=\"drawing\" width=\"250\"/>\n"
   ]
  },
  {
   "cell_type": "markdown",
   "id": "selective-conversion",
   "metadata": {},
   "source": [
    "## 2.1 Strings\n",
    "\n",
    "Strings are not like the other type of variables that we've seen. A string is a **sequence**, which means is an ordered collection of other values (individual characters). That means we can access individualy to each character by specifing its position:\n",
    "\n",
    "```\n",
    ">> book = \"thriller\"\n",
    ">> letter = book[1]\n",
    ">> print(letter)\n",
    "    h\n",
    "```\n",
    "\n",
    "Python is 0-based index, that means that the first position it's 0, not 1. That's why in the previous expample when we set the variable *letter* with the position 1 of variable *book* we get *h* instead of *t*.\n",
    "\n",
    "Using the same syntax we can slice the string by position:\n",
    "\n",
    "```\n",
    ">> book = \"thriller\"\n",
    ">> sliced_book = book[1:4]\n",
    ">> print(sliced_book)\n",
    "    hri\n",
    "```\n",
    "Be aware that if the first index is greater than or eqaul to the second the result is an **empty string**\n",
    "```\n",
    ">> book = \"thriller\"\n",
    ">> sliced_book = book[1:1]\n",
    ">> print(sliced_book)\n",
    "    ''\n",
    "```\n",
    "\n",
    "You can use negative index to start counting from the end:\n",
    "\n",
    "```\n",
    ">> book = \"thriller\"\n",
    ">> sliced_book = book[2:-2]\n",
    ">> print(sliced_book)\n",
    "    rill\n",
    "```\n",
    "\n",
    "### 2.1.1 String methods\n",
    "\n",
    "A method is similar to a function: it takes arguments and returns a value. But the syntax is slightly different. Let's see it on an example:\n",
    "```\n",
    ">>> word = \"bike\"\n",
    ">>> new_word = word.upper()\n",
    ">>> print(new_word)\n",
    "    'BIKE'\n",
    "```\n",
    "\n",
    "\n",
    "Strings provide methods that perform a variety of useful operations. During the course we're going to use some of them, if you want you can check the complete list of string methods [in this documentation](https://docs.python.org/3/library/stdtypes.html#string-methods)\n",
    " \n",
    " Let's see some of them:\n",
    " \n",
    " - `.upper()`: Return a copy of the string with all the characters converted to uppercase.\n",
    " - `.isupper()`: Return True if all characters in the string are uppercase, otherwise return False.\n",
    " - `.find(sub)`: Return the lowest index in the string where substring *sub*. Return -1 if sub is not found.\n",
    " - `.format()`: Perform a string formatting operation. The string on which this method is called contain replacement fields delimited by braces {}. Returns a copy of the string where each replacement field is replaced with the string value of the corresponding argument."
   ]
  },
  {
   "cell_type": "code",
   "execution_count": 108,
   "id": "positive-shopper",
   "metadata": {},
   "outputs": [],
   "source": [
    "word = \"Hello world\""
   ]
  },
  {
   "cell_type": "code",
   "execution_count": 109,
   "id": "mighty-apartment",
   "metadata": {},
   "outputs": [
    {
     "data": {
      "text/plain": [
       "'HELLO WORLD'"
      ]
     },
     "execution_count": 109,
     "metadata": {},
     "output_type": "execute_result"
    }
   ],
   "source": [
    "word.upper()"
   ]
  },
  {
   "cell_type": "code",
   "execution_count": 110,
   "id": "quality-shell",
   "metadata": {},
   "outputs": [
    {
     "data": {
      "text/plain": [
       "False"
      ]
     },
     "execution_count": 110,
     "metadata": {},
     "output_type": "execute_result"
    }
   ],
   "source": [
    "word.isupper()"
   ]
  },
  {
   "cell_type": "code",
   "execution_count": 111,
   "id": "social-trading",
   "metadata": {},
   "outputs": [
    {
     "name": "stdout",
     "output_type": "stream",
     "text": [
      "HELLO WORLD\n",
      "True\n"
     ]
    }
   ],
   "source": [
    "word2 = word.upper()\n",
    "print(word2)\n",
    "print(word2.isupper())"
   ]
  },
  {
   "cell_type": "code",
   "execution_count": 112,
   "id": "corporate-member",
   "metadata": {},
   "outputs": [
    {
     "data": {
      "text/plain": [
       "6"
      ]
     },
     "execution_count": 112,
     "metadata": {},
     "output_type": "execute_result"
    }
   ],
   "source": [
    "word.find(\"world\")"
   ]
  },
  {
   "cell_type": "code",
   "execution_count": 117,
   "id": "typical-bullet",
   "metadata": {},
   "outputs": [
    {
     "name": "stdout",
     "output_type": "stream",
     "text": [
      "Hello {} nice to meet you, I'm {}\n",
      "Hello Maria nice to meet you, I'm Lluis\n",
      "Hello Juan nice to meet you, I'm Laura\n"
     ]
    }
   ],
   "source": [
    "message = \"Hello {} nice to meet you, I'm {}\"\n",
    "\n",
    "print(message)\n",
    "print(message.format(\"Maria\",\"Lluis\"))\n",
    "print(message.format(\"Juan\",\"Laura\"))"
   ]
  },
  {
   "cell_type": "markdown",
   "id": "removable-nursing",
   "metadata": {},
   "source": [
    "### 2.1.2 Exercice: Caesar cypher\n",
    "\n",
    "<img src=\"https://encrypted-tbn0.gstatic.com/images?q=tbn:ANd9GcTFOtEO65jwut_72IZCdb60eu5bYKPHO1TUKQ&usqp=CAU\" alt=\"drawing\" width=\"400\"/>\n",
    "\n",
    "A Caesar cypher is a weak form of encryption that involves *rotating* each letter by a fixed number of places. To rotate a letter means to shift it thorugh the alphabet, wrapping around the beginning if necessary, so *A* rotated by 3 is *D* and *Z* rotated by 1 is *A*.\n",
    "\n",
    "To rotate a word, rotate each letter by the same amount. For example, \"cheer\" rotated by 7 is \"jolly\" and \"melon\" rotated by -10 is \"cubed\". In the movie *2001: A Space Odysey\", the ship computer is called HAL, which is IBM rotated by 1.\n",
    "\n",
    "Write a function that takes a string and an integer as parameters and returns a new string that contains the letters from the original string rotated by the given amount.\n",
    "\n",
    "**Hints**:\n",
    "- The *built-in* function `ord()` converts a character to a numeric code\n",
    "- The *built-in* function `chr()`converts a numeric code to a character (inverse of `ord()`)\n",
    "- The numeric codes for uppercase letters are different from lowercase ones."
   ]
  },
  {
   "cell_type": "code",
   "execution_count": 1,
   "id": "finished-clinic",
   "metadata": {},
   "outputs": [],
   "source": [
    "def rotate_letter(letter, n):\n",
    "\n",
    "    if letter.isupper():\n",
    "        start = ord('A')\n",
    "    elif letter.islower():\n",
    "        start = ord('a')\n",
    "    else:\n",
    "        return letter\n",
    "\n",
    "    c = ord(letter) - start\n",
    "    i = (c + n) % 26 + start\n",
    "    return chr(i)\n",
    "\n",
    "\n",
    "def rotate_word(word, n):\n",
    "\n",
    "    res = ''\n",
    "    for letter in word:\n",
    "        res += rotate_letter(letter, n)\n",
    "    return res"
   ]
  },
  {
   "cell_type": "code",
   "execution_count": 290,
   "id": "governmental-newsletter",
   "metadata": {
    "scrolled": true
   },
   "outputs": [
    {
     "name": "stdout",
     "output_type": "stream",
     "text": [
      "jolly\n",
      "cubed\n",
      "bunny\n"
     ]
    }
   ],
   "source": [
    "print(rotate_word('cheer', 7))\n",
    "print(rotate_word('melon', -10))\n",
    "print(rotate_word('sleep', 9))"
   ]
  },
  {
   "cell_type": "code",
   "execution_count": 291,
   "id": "military-wrist",
   "metadata": {},
   "outputs": [
    {
     "name": "stdout",
     "output_type": "stream",
     "text": [
      "jolly\n",
      "cubed\n",
      "bunny\n"
     ]
    }
   ],
   "source": [
    "print(caesar_cypher('cheer', 7))\n",
    "print(caesar_cypher('melon', -10))\n",
    "print(caesar_cypher('sleep', 9))"
   ]
  },
  {
   "cell_type": "code",
   "execution_count": 293,
   "id": "electric-capability",
   "metadata": {},
   "outputs": [],
   "source": [
    "## Another possible solution\n",
    "def caesar_cypher(word, pos):\n",
    "    \n",
    "    #We transform the string to lower to avoid dealing with more codes\n",
    "    listed_word = list(word.lower())\n",
    "    transformed_word = []\n",
    "    \n",
    "    for i in listed_word:\n",
    "        \n",
    "        numeric_code = ord(i) + pos\n",
    "        \n",
    "        #If numeric code is smaller than a it means that the character won't belong to alphabet,\n",
    "        #so we need to change it wiht the code from z (last character in alphabet) \n",
    "        if numeric_code<ord(\"a\") :\n",
    "            \n",
    "            numeric_code = ord(\"z\") + (pos - (ord(\"a\")-ord(i)-1))\n",
    "            \n",
    "        \n",
    "        #If numeric code is greater than z it means that the character won't belong to alphabet,\n",
    "        #so we need to change it wiht the code from a (first character in alphabet) \n",
    "        elif numeric_code>ord(\"z\"):\n",
    "            \n",
    "            numeric_code = ord(\"a\") + (pos - (ord(\"z\")-ord(i))-1)\n",
    "        \n",
    "        transformed_word.append(chr(numeric_code))\n",
    "        \n",
    "    return \"\".join(transformed_word)    "
   ]
  },
  {
   "cell_type": "markdown",
   "id": "different-melissa",
   "metadata": {},
   "source": [
    "## 2.2 Data structures and iteraton\n",
    "\n",
    "Data structures are a way of organizing and storing data in a computer program so that it can be accessed and manipulated efficiently. They help programmers solve complex problems by providing a systematic way of organizing and processing data.\n",
    "\n",
    "In Python there are 4 main data structures:\n",
    " - Lists\n",
    " - Dictionaries\n",
    " - Tuples\n",
    " - Sets"
   ]
  },
  {
   "cell_type": "markdown",
   "id": "scientific-edward",
   "metadata": {},
   "source": [
    "### 2.2.1 Lists\n",
    "\n",
    "A list is a sequence of values usually called **elements** or **items**. There are no restrictions about what can be a element, you can have different variable types in the same list, even you can have a nested list (or any other data structure).\n",
    "\n",
    "To define a list you only need to put the elemnets between brackets (`[]`) and separated with commas.\n",
    "\n",
    "`list`is a *built-in function* in Python, so you shouldn't use it to name your variables!\n",
    "\n",
    "The main points of list are:\n",
    " - **Mutable**: Once defined, list chan be changed (remove or replace an element)\n",
    " - **Sorted**: Elements of the list are sorted in the same order they were defined (or edited)\n",
    " \n",
    "Two lists are **equivalent**, because they have the same elements, but not **identical**, because they are not the same object."
   ]
  },
  {
   "cell_type": "code",
   "execution_count": 29,
   "id": "hearing-inventory",
   "metadata": {},
   "outputs": [],
   "source": [
    "l = [1,\"aaa\",True,[0.5, print]]"
   ]
  },
  {
   "cell_type": "code",
   "execution_count": 30,
   "id": "single-candle",
   "metadata": {},
   "outputs": [
    {
     "name": "stdout",
     "output_type": "stream",
     "text": [
      "[1, 'aaa', True, [0.5, <built-in function print>]]\n"
     ]
    }
   ],
   "source": [
    "print(l)"
   ]
  },
  {
   "cell_type": "code",
   "execution_count": 31,
   "id": "criminal-rally",
   "metadata": {},
   "outputs": [
    {
     "data": {
      "text/plain": [
       "list"
      ]
     },
     "execution_count": 31,
     "metadata": {},
     "output_type": "execute_result"
    }
   ],
   "source": [
    "type(l)"
   ]
  },
  {
   "cell_type": "code",
   "execution_count": 35,
   "id": "forty-flashing",
   "metadata": {},
   "outputs": [
    {
     "data": {
      "text/plain": [
       "1"
      ]
     },
     "execution_count": 35,
     "metadata": {},
     "output_type": "execute_result"
    }
   ],
   "source": [
    "# Select a single element of a list by its index (Python is 0 index)\n",
    "l[0]"
   ]
  },
  {
   "cell_type": "code",
   "execution_count": 57,
   "id": "experimental-computer",
   "metadata": {},
   "outputs": [
    {
     "data": {
      "text/plain": [
       "[0.5, <function print>]"
      ]
     },
     "execution_count": 57,
     "metadata": {},
     "output_type": "execute_result"
    }
   ],
   "source": [
    "l[-1]"
   ]
  },
  {
   "cell_type": "code",
   "execution_count": null,
   "id": "intimate-vietnam",
   "metadata": {},
   "outputs": [],
   "source": [
    "#Slice the list"
   ]
  },
  {
   "cell_type": "code",
   "execution_count": 62,
   "id": "alike-haiti",
   "metadata": {},
   "outputs": [
    {
     "data": {
      "text/plain": [
       "['aaa', True]"
      ]
     },
     "execution_count": 62,
     "metadata": {},
     "output_type": "execute_result"
    }
   ],
   "source": [
    "l[1:3]"
   ]
  },
  {
   "cell_type": "code",
   "execution_count": 60,
   "id": "associate-optimization",
   "metadata": {},
   "outputs": [
    {
     "data": {
      "text/plain": [
       "[1, 'aaa', True]"
      ]
     },
     "execution_count": 60,
     "metadata": {},
     "output_type": "execute_result"
    }
   ],
   "source": [
    "l[:-1]"
   ]
  },
  {
   "cell_type": "code",
   "execution_count": 61,
   "id": "agreed-ordinary",
   "metadata": {
    "scrolled": true
   },
   "outputs": [
    {
     "data": {
      "text/plain": [
       "[True, [0.5, <function print>]]"
      ]
     },
     "execution_count": 61,
     "metadata": {},
     "output_type": "execute_result"
    }
   ],
   "source": [
    "l[2:]"
   ]
  },
  {
   "cell_type": "code",
   "execution_count": 78,
   "id": "tropical-notion",
   "metadata": {
    "scrolled": false
   },
   "outputs": [
    {
     "name": "stdout",
     "output_type": "stream",
     "text": [
      "True\n",
      "False\n"
     ]
    }
   ],
   "source": [
    "t = [\"a\", \"b\", \"c\"]\n",
    "t2 = [\"a\", \"b\", \"c\"]\n",
    "print(t == t2)\n",
    "print (t is t2)"
   ]
  },
  {
   "cell_type": "markdown",
   "id": "driving-treat",
   "metadata": {},
   "source": [
    "#### 2.2.1.1 Traversing a List\n",
    "\n",
    "The most common way to traverse the elements of a list is wit a *for* loop. The syntax is similar to the conditionals:\n",
    "\n",
    "```\n",
    ">>> l = [1,2,3,4]\n",
    ">>> for i in l:\n",
    "        print(i)\n",
    "        \n",
    "    1\n",
    "    2\n",
    "    3\n",
    "    4\n",
    "```\n",
    "\n",
    "*For* loop only works to need to read the elements of the list. If you need to write or update the element you need to interate through indices. A common way to do that is combining *built-in* function *range* and *len*:\n",
    "\n",
    " - `len()` returns the total number of elements that the input has\n",
    " - `range()` returns a sequence of numbers, starting from 0 by default, and increments by 1 (by default), and stops before a specified number.\n",
    " \n",
    " ```\n",
    " >>> l = [1,2,3,4]\n",
    " >>> for i in range(len(l)):\n",
    "         l[i] += 1\n",
    " >>> print(l)\n",
    "     [2,3,4,5]\n",
    "```"
   ]
  },
  {
   "cell_type": "code",
   "execution_count": 37,
   "id": "acquired-employee",
   "metadata": {
    "scrolled": false
   },
   "outputs": [
    {
     "name": "stdout",
     "output_type": "stream",
     "text": [
      "1\n",
      "aaa\n",
      "True\n",
      "[0.5, <built-in function print>]\n"
     ]
    }
   ],
   "source": [
    "for i in l:\n",
    "    print(i)"
   ]
  },
  {
   "cell_type": "code",
   "execution_count": 120,
   "id": "similar-vampire",
   "metadata": {
    "scrolled": true
   },
   "outputs": [
    {
     "name": "stdout",
     "output_type": "stream",
     "text": [
      "[1, 2, 3, 4]\n",
      "[2, 4, 6, 8]\n"
     ]
    }
   ],
   "source": [
    "numbers = [1,2,3,4]\n",
    "\n",
    "print(numbers)\n",
    "for index in range(len(numbers)):\n",
    "    numbers[index] = numbers[index]*2\n",
    "    \n",
    "print(numbers)"
   ]
  },
  {
   "cell_type": "markdown",
   "id": "swiss-yukon",
   "metadata": {},
   "source": [
    "##### WARNING!!\n",
    "\n",
    "**Do not** modify the list while you're traversing it, wierd thigs will happend:"
   ]
  },
  {
   "cell_type": "code",
   "execution_count": 95,
   "id": "outer-season",
   "metadata": {},
   "outputs": [
    {
     "name": "stdout",
     "output_type": "stream",
     "text": [
      "[2, 4]\n"
     ]
    }
   ],
   "source": [
    "l = [1, 2, 3, 4, 5]\n",
    "for item in l:\n",
    "     l.remove(item)\n",
    "\n",
    "print(l)"
   ]
  },
  {
   "cell_type": "markdown",
   "id": "absolute-navigator",
   "metadata": {},
   "source": [
    "#### 2.2.1.2 List Operations\n",
    "\n",
    "Like strings, list have two available operations:\n",
    " - \\+ operator concatenates lists:\n",
    "     ```\n",
    "     >>> a = [1,2,3]\n",
    "     >>> b = [4,5,6]\n",
    "     >>> a + b\n",
    "         [1,2,3,4,5,6]\n",
    "    ```\n",
    " - \\* operator repeats a list a given number of times:\n",
    "     ```\n",
    "     >>> [1,2,3]*3\n",
    "         [1,2,3,1,2,3,1,2,3]\n",
    "    ```"
   ]
  },
  {
   "cell_type": "markdown",
   "id": "foreign-belle",
   "metadata": {},
   "source": [
    "#### 2.2.1.2 List Methods\n",
    "\n",
    "[Here](https://docs.python.org/3/tutorial/datastructures.html#more-on-lists) you can find the complete list of methods available for lists.\n",
    "\n",
    "Let's see some:\n",
    "- `.append(x)`: Add an item to the end of the list. Equivalent to  `a[len(a):] = [x]`.\n",
    "- `.extend(l)`: Extend the list by appending all the items from the iterable. Equivalent to a `a[len(a):] = l`.\n",
    "- `.sort()`: Sort the items of the list in place\n",
    "- `.pop(i)`: Remove the item at the given position in the list, and return it. If no index is specified, it removes and returns the last item in the list.\n",
    "- `.remove(x)`: Remove the first item from the list whose value is equal to x.\n",
    "\n",
    "\n",
    "**Note**:\n",
    "You will see that this methods doesn't return anything, but edit the used list. That is important because when you pass a list to a function (or you assign a new variable based on a previous variable that is a list), Python gets a reference to the list (that's known as **aliasing**). That means that if the function modifies the list (o the new variable is modified), the original one sees the change.\n",
    "\n",
    "That is why it's important to **know what operations modify lists** and which ones create new lists. If you're not sure what an operation does you simply can check it with a simple test!\n",
    "\n",
    "Although this behaviour can be useful, it makes the code harder to read and it is error-prone. In general, **it's safer to avoid it**."
   ]
  },
  {
   "cell_type": "code",
   "execution_count": 65,
   "id": "consolidated-family",
   "metadata": {},
   "outputs": [
    {
     "name": "stdout",
     "output_type": "stream",
     "text": [
      "['a', 'b', 'c']\n",
      "After append\n",
      "['a', 'b', 'c', 'd']\n"
     ]
    }
   ],
   "source": [
    "t = [\"a\",\"b\",\"c\"]\n",
    "print(t)\n",
    "t.append(\"d\")\n",
    "print(\"After append\")\n",
    "print(t)"
   ]
  },
  {
   "cell_type": "code",
   "execution_count": 67,
   "id": "likely-business",
   "metadata": {},
   "outputs": [
    {
     "name": "stdout",
     "output_type": "stream",
     "text": [
      "['a', 'b', 'c']\n",
      "['d', 'e']\n",
      "After extend\n",
      "['a', 'b', 'c', 'd', 'e']\n",
      "['d', 'e']\n"
     ]
    }
   ],
   "source": [
    "t1 = [\"a\",\"b\",\"c\"]\n",
    "t2 = [\"d\",\"e\"]\n",
    "\n",
    "print(t1)\n",
    "print(t2)\n",
    "t1.extend(t2)\n",
    "print(\"After extend\")\n",
    "print(t1)\n",
    "print(t2)"
   ]
  },
  {
   "cell_type": "code",
   "execution_count": 68,
   "id": "ordered-gilbert",
   "metadata": {},
   "outputs": [
    {
     "name": "stdout",
     "output_type": "stream",
     "text": [
      "['d', 'c', 'a', 'b', 'w', 'h']\n",
      "After sort\n",
      "['a', 'b', 'c', 'd', 'h', 'w']\n"
     ]
    }
   ],
   "source": [
    "t = [\"d\",\"c\",\"a\",\"b\",\"w\",\"h\"]\n",
    "print(t)\n",
    "t.sort()\n",
    "print(\"After sort\")\n",
    "print(t)"
   ]
  },
  {
   "cell_type": "code",
   "execution_count": 70,
   "id": "phantom-manufacturer",
   "metadata": {
    "scrolled": true
   },
   "outputs": [
    {
     "name": "stdout",
     "output_type": "stream",
     "text": [
      "['a', 'b', 'c', 'd']\n",
      "After pop\n",
      "['a', 'c', 'd']\n",
      "b\n"
     ]
    }
   ],
   "source": [
    "t = [\"a\",\"b\",\"c\",\"d\"]\n",
    "print(t)\n",
    "x = t.pop(1)\n",
    "print(\"After pop\")\n",
    "print(t)\n",
    "print(x)"
   ]
  },
  {
   "cell_type": "code",
   "execution_count": 71,
   "id": "deluxe-marriage",
   "metadata": {},
   "outputs": [
    {
     "name": "stdout",
     "output_type": "stream",
     "text": [
      "['a', 'b', 'c', 'd']\n",
      "After delete\n",
      "['a', 'c', 'd']\n"
     ]
    }
   ],
   "source": [
    "# If we don't want to keep the deleted element, instead of using .pop we can use del t[1]\n",
    "t = [\"a\",\"b\",\"c\",\"d\"]\n",
    "print(t)\n",
    "del t[1]\n",
    "print(\"After delete\")\n",
    "print(t)"
   ]
  },
  {
   "cell_type": "code",
   "execution_count": 74,
   "id": "maritime-fence",
   "metadata": {
    "scrolled": false
   },
   "outputs": [
    {
     "name": "stdout",
     "output_type": "stream",
     "text": [
      "['a', 'b', 'c', 'd']\n",
      "After delete\n",
      "['a', 'c', 'd']\n"
     ]
    }
   ],
   "source": [
    "t = [\"a\",\"b\",\"c\",\"d\"]\n",
    "print(t)\n",
    "t.remove(\"b\")\n",
    "print(\"After delete\")\n",
    "print(t)"
   ]
  },
  {
   "cell_type": "code",
   "execution_count": 79,
   "id": "narrative-homeless",
   "metadata": {},
   "outputs": [
    {
     "name": "stdout",
     "output_type": "stream",
     "text": [
      "['a', 'b', 'c']\n",
      "['a', 'b', 'c']\n",
      "After append\n",
      "['a', 'b', 'c', 'd']\n",
      "['a', 'b', 'c', 'd']\n"
     ]
    }
   ],
   "source": [
    "t = [\"a\",\"b\",\"c\"]\n",
    "t1 = t\n",
    "\n",
    "print(t)\n",
    "print(t1)\n",
    "t.append(\"d\")\n",
    "print(\"After append\")\n",
    "print(t)\n",
    "print(t1)"
   ]
  },
  {
   "cell_type": "code",
   "execution_count": 80,
   "id": "operating-rochester",
   "metadata": {},
   "outputs": [
    {
     "name": "stdout",
     "output_type": "stream",
     "text": [
      "['a', 'b', 'c']\n",
      "['a', 'b', 'c']\n",
      "After append\n",
      "['a', 'b', 'c', 'd']\n",
      "['a', 'b', 'c']\n"
     ]
    }
   ],
   "source": [
    "t = [\"a\",\"b\",\"c\"]\n",
    "t1 = t[:]\n",
    "\n",
    "print(t)\n",
    "print(t1)\n",
    "t.append(\"d\")\n",
    "print(\"After append\")\n",
    "print(t)\n",
    "print(t1)"
   ]
  },
  {
   "cell_type": "code",
   "execution_count": 81,
   "id": "sporting-thermal",
   "metadata": {},
   "outputs": [
    {
     "name": "stdout",
     "output_type": "stream",
     "text": [
      "['a', 'b', 'c', 'd', 'e']\n",
      "After remove\n",
      "['b', 'd']\n"
     ]
    }
   ],
   "source": [
    "t = [\"a\",\"b\",\"c\",\"d\",\"e\"]\n",
    "\n",
    "print(t)\n",
    "for el in t:\n",
    "    t.remove(el)\n",
    "    \n",
    "print(\"After remove\")\n",
    "print(t) #We would expect an empty list"
   ]
  },
  {
   "cell_type": "markdown",
   "id": "communist-porter",
   "metadata": {},
   "source": [
    "### 2.2.1.3 The *in* Operator\n",
    "\n",
    "The world *in* is a boolean operator that returns *True* if the first element appears in the second one. It can be applied in any variable that is iterable.\n",
    "\n",
    "```\n",
    ">>> list = [\"a\", \"b\", \"c\"]\n",
    ">>> \"B\" in list\n",
    "    False\n",
    "```\n",
    "\n",
    "```\n",
    ">>> word = \"Hello world\"\n",
    ">>> \"world\" in word\n",
    "    True\n",
    "```"
   ]
  },
  {
   "cell_type": "code",
   "execution_count": 119,
   "id": "concrete-prevention",
   "metadata": {},
   "outputs": [
    {
     "data": {
      "text/plain": [
       "True"
      ]
     },
     "execution_count": 119,
     "metadata": {},
     "output_type": "execute_result"
    }
   ],
   "source": [
    "1 in {1,2,3}"
   ]
  },
  {
   "cell_type": "markdown",
   "id": "jewish-surveillance",
   "metadata": {},
   "source": [
    "### 2.2.1.4 List and Strings\n",
    "\n",
    "As you've seen, lists have lot in common with strings, which makes sence because lists are sequence of items and strings are a sequence of characters (a specific type of items). But a list of characters is not the same as a string. \n",
    "\n",
    "We have some *built-in* functions and methods that transform strigs to lists or lists to strings:\n",
    "\n",
    "- `list(s)`: Transforms a string into a list of characters\n",
    "- `.split()`: Transforms a string into a list of words using a **delimiter** to set word boundaries\n",
    "- `.join()`: Transforms a list into a string addin a **delimiter** betwee the elements (it's the inverse of `.split()`"
   ]
  },
  {
   "cell_type": "code",
   "execution_count": 136,
   "id": "hydraulic-france",
   "metadata": {},
   "outputs": [
    {
     "data": {
      "text/plain": [
       "['H', 'e', 'l', 'l', 'o', ' ', 'w', 'o', 'r', 'l', 'd']"
      ]
     },
     "execution_count": 136,
     "metadata": {},
     "output_type": "execute_result"
    }
   ],
   "source": [
    "c = \"Hello world\"\n",
    "\n",
    "list(c)"
   ]
  },
  {
   "cell_type": "code",
   "execution_count": 138,
   "id": "accessible-baghdad",
   "metadata": {},
   "outputs": [
    {
     "data": {
      "text/plain": [
       "['Hello', 'world']"
      ]
     },
     "execution_count": 138,
     "metadata": {},
     "output_type": "execute_result"
    }
   ],
   "source": [
    "lc = c.split(\" \")\n",
    "lc"
   ]
  },
  {
   "cell_type": "code",
   "execution_count": 140,
   "id": "amino-motel",
   "metadata": {},
   "outputs": [
    {
     "data": {
      "text/plain": [
       "'Hello-world'"
      ]
     },
     "execution_count": 140,
     "metadata": {},
     "output_type": "execute_result"
    }
   ],
   "source": [
    "\"-\".join(lc)"
   ]
  },
  {
   "cell_type": "markdown",
   "id": "genuine-switch",
   "metadata": {},
   "source": [
    "## Exercice break\n",
    "<img src=\"data:image/jpeg;base64,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\" alt=\"drawing\" width=\"250\"/>\n",
    "\n",
    "\n",
    "##### Exercice 1: Write a function that takes a list of lists of integers and returns the sum of all the elements from the nested lists.\n",
    "The result should look like:\n",
    "```\n",
    ">>>l = [[3,4], [1,2]]\n",
    ">>> print(sum_elements(l))\n",
    "10\n",
    "```\n",
    "\n",
    "##### Exercice 2:  Write a function that checks if a list is sorted (returns *True*) or not (returns *False*). Add an optional parameter to specify if the sorting order is ascending (from lower to higher) or descending (from higher to lower), with its default value set to *ascending*\n",
    "The result should look like:\n",
    "```\n",
    ">>> l = [2,3,4,5]\n",
    ">>> is_sorted(l)\n",
    "True\n",
    "\n",
    ">>> l2 = [4,3,5]\n",
    ">>> is_sorted(l)\n",
    "False\n",
    "```\n",
    "\n",
    "**Hint**: `.reverse()` reverses list's elements (last element will become first one)\n",
    "\n",
    "##### Exercice 3: Write a function that takes a list and returns *True* if there is, at least, one duplicated element without modifying the original list\n",
    "\n",
    "```\n",
    ">>> l = [\"a\",\"b\",1,2]\n",
    ">>> duplicates(l)\n",
    "False\n",
    "```"
   ]
  },
  {
   "cell_type": "code",
   "execution_count": 84,
   "id": "difficult-civilian",
   "metadata": {},
   "outputs": [
    {
     "data": {
      "text/plain": [
       "18"
      ]
     },
     "execution_count": 84,
     "metadata": {},
     "output_type": "execute_result"
    }
   ],
   "source": [
    "def sum_elements(l):\n",
    "    result = 0\n",
    "    \n",
    "    for i in l:\n",
    "        result += sum(i)\n",
    "            \n",
    "    return result\n",
    "\n",
    "sum_elements([[3,4],[5,6]])"
   ]
  },
  {
   "cell_type": "code",
   "execution_count": 130,
   "id": "typical-qatar",
   "metadata": {},
   "outputs": [
    {
     "data": {
      "text/plain": [
       "True"
      ]
     },
     "execution_count": 130,
     "metadata": {},
     "output_type": "execute_result"
    }
   ],
   "source": [
    "def is_sorted(l, descending = True):\n",
    "    \n",
    "    \n",
    "    l2 = sorted(l, reverse= descending)\n",
    "        \n",
    "    return l2 == l\n",
    "\n",
    "is_sorted([4,3,2,1], descending=True)"
   ]
  },
  {
   "cell_type": "code",
   "execution_count": 121,
   "id": "emerging-belize",
   "metadata": {},
   "outputs": [
    {
     "data": {
      "text/plain": [
       "True"
      ]
     },
     "execution_count": 121,
     "metadata": {},
     "output_type": "execute_result"
    }
   ],
   "source": [
    "def duplicates(l):\n",
    "    \n",
    "    # make a copy of t to avoid modifying the original list\n",
    "    l2 = l[:]\n",
    "    \n",
    "    #if we remove an element but we can still find it means that there are more than one\n",
    "    for i in l:\n",
    "        l2.remove(i)\n",
    "        \n",
    "        if i in l2:\n",
    "            return True\n",
    "        \n",
    "    return False\n",
    "\n",
    "duplicates([\"a\",\"b\",\"a\"])"
   ]
  },
  {
   "cell_type": "code",
   "execution_count": 104,
   "id": "hydraulic-value",
   "metadata": {},
   "outputs": [],
   "source": [
    "## Option 2\n",
    "def duplicates(s):\n",
    "\n",
    "    # make a copy of t to avoid modifying the original list\n",
    "    t = list(s)\n",
    "    t.sort()\n",
    "\n",
    "    # check for adjacent elements that are equal\n",
    "    for i in range(len(t)-1):\n",
    "        if t[i] == t[i+1]:\n",
    "            return True\n",
    "    return False"
   ]
  },
  {
   "cell_type": "markdown",
   "id": "occupied-discharge",
   "metadata": {},
   "source": [
    "### 2.2.2 Dictionaries\n",
    "\n",
    "A **dictionary** is like a list, but more general. In a list, the indices have to be integers; in a dictionary they can be (almost) any type.\n",
    "\n",
    "A dictionary contains a collection of indices, whi are called **keys** and a collection of values. Each key is assossatied to a value, this association is called **key-value pair**.\n",
    "\n",
    "Like lists, dictionaries are **mutable**. But unlike lists, the order of items in a dictionari is **unpredictalbe**\n",
    "\n",
    "To define a dictionary you only need to put the key-value combination between `{key:value}` and separated with colon and with commas from the rest of key-values.\n"
   ]
  },
  {
   "cell_type": "code",
   "execution_count": 11,
   "id": "painful-engine",
   "metadata": {},
   "outputs": [],
   "source": [
    "menu = {\"starter\":\"caesar salad\",\n",
    "        \"main\":\"risotto\",\n",
    "        \"dessert\":\"cheescake\",\n",
    "         }"
   ]
  },
  {
   "cell_type": "code",
   "execution_count": 2,
   "id": "swedish-slovak",
   "metadata": {},
   "outputs": [
    {
     "data": {
      "text/plain": [
       "'caesar salad'"
      ]
     },
     "execution_count": 2,
     "metadata": {},
     "output_type": "execute_result"
    }
   ],
   "source": [
    "menu[\"starter\"]"
   ]
  },
  {
   "cell_type": "code",
   "execution_count": 3,
   "id": "imported-democrat",
   "metadata": {},
   "outputs": [
    {
     "ename": "KeyError",
     "evalue": "0",
     "output_type": "error",
     "traceback": [
      "\u001b[1;31m---------------------------------------------------------------------------\u001b[0m",
      "\u001b[1;31mKeyError\u001b[0m                                  Traceback (most recent call last)",
      "\u001b[1;32m<ipython-input-3-ca462d9b1d0b>\u001b[0m in \u001b[0;36m<module>\u001b[1;34m\u001b[0m\n\u001b[1;32m----> 1\u001b[1;33m \u001b[0mmenu\u001b[0m\u001b[1;33m[\u001b[0m\u001b[1;36m0\u001b[0m\u001b[1;33m]\u001b[0m\u001b[1;33m\u001b[0m\u001b[1;33m\u001b[0m\u001b[0m\n\u001b[0m",
      "\u001b[1;31mKeyError\u001b[0m: 0"
     ]
    }
   ],
   "source": [
    "menu[0]"
   ]
  },
  {
   "cell_type": "code",
   "execution_count": 4,
   "id": "selected-horse",
   "metadata": {},
   "outputs": [],
   "source": [
    "menu[\"drink\"] = \"white wine\""
   ]
  },
  {
   "cell_type": "code",
   "execution_count": 12,
   "id": "detected-saying",
   "metadata": {},
   "outputs": [
    {
     "data": {
      "text/plain": [
       "{'starter': 'caesar salad', 'main': 'risotto', 'dessert': 'cheescake'}"
      ]
     },
     "execution_count": 12,
     "metadata": {},
     "output_type": "execute_result"
    }
   ],
   "source": [
    "menu"
   ]
  },
  {
   "cell_type": "markdown",
   "id": "integral-ridge",
   "metadata": {},
   "source": [
    "#### 2.2.2.1 *In* operator\n",
    "\n",
    "The *in* operator checks if something appears as *key* in the dictionary (appearing as a value is not good enough).\n",
    "\n",
    "In practice, *in* operator works the same way in Lists and in Dictionaries, but behind the scenes, it uses different algorithms:\n",
    "- For lists, it searches the elements of the list in order. As the list gets longer, the search **time gets longer in direct proportion**.\n",
    "\n",
    "- For dictionaries, it uses an algorithm called a **hashable**, that has a remarkable property: the search takes the **same amount of time** no matter how many items are in the dictionary\n",
    "\n",
    "##### Hash\n",
    "A **hash** is a function that takes a value (of any kind) and returns an integer. Dictionaries use these integers, called hash values, to store and look up key-value pairs.\n",
    "This system works fine if the **keys are inmmutable**, but it would missfunction if they were mutable. That's why if you try to use some mutable type (like lists or other dictionaries) as key you'll get an error."
   ]
  },
  {
   "cell_type": "code",
   "execution_count": 6,
   "id": "nonprofit-trout",
   "metadata": {},
   "outputs": [
    {
     "data": {
      "text/plain": [
       "True"
      ]
     },
     "execution_count": 6,
     "metadata": {},
     "output_type": "execute_result"
    }
   ],
   "source": [
    "\"starter\" in menu"
   ]
  },
  {
   "cell_type": "code",
   "execution_count": 7,
   "id": "dominican-marketing",
   "metadata": {},
   "outputs": [
    {
     "data": {
      "text/plain": [
       "False"
      ]
     },
     "execution_count": 7,
     "metadata": {},
     "output_type": "execute_result"
    }
   ],
   "source": [
    "\"caesar salad\" in menu"
   ]
  },
  {
   "cell_type": "code",
   "execution_count": 8,
   "id": "progressive-radar",
   "metadata": {},
   "outputs": [
    {
     "data": {
      "text/plain": [
       "False"
      ]
     },
     "execution_count": 8,
     "metadata": {},
     "output_type": "execute_result"
    }
   ],
   "source": [
    "1234 in menu"
   ]
  },
  {
   "cell_type": "code",
   "execution_count": 54,
   "id": "general-louisiana",
   "metadata": {},
   "outputs": [
    {
     "ename": "TypeError",
     "evalue": "unhashable type: 'list'",
     "output_type": "error",
     "traceback": [
      "\u001b[1;31m---------------------------------------------------------------------------\u001b[0m",
      "\u001b[1;31mTypeError\u001b[0m                                 Traceback (most recent call last)",
      "\u001b[1;32m<ipython-input-54-a28e5b1a4c6d>\u001b[0m in \u001b[0;36m<module>\u001b[1;34m\u001b[0m\n\u001b[1;32m----> 1\u001b[1;33m \u001b[0merror_dict\u001b[0m \u001b[1;33m=\u001b[0m \u001b[1;33m{\u001b[0m\u001b[1;33m[\u001b[0m\u001b[1;34m\"wrong_list_index\"\u001b[0m\u001b[1;33m]\u001b[0m\u001b[1;33m:\u001b[0m\u001b[1;34m\"Legal_Value\"\u001b[0m\u001b[1;33m}\u001b[0m\u001b[1;33m\u001b[0m\u001b[1;33m\u001b[0m\u001b[0m\n\u001b[0m",
      "\u001b[1;31mTypeError\u001b[0m: unhashable type: 'list'"
     ]
    }
   ],
   "source": [
    "error_dict = {[\"wrong_list_index\"]:\"Legal_Value\"}"
   ]
  },
  {
   "cell_type": "markdown",
   "id": "filled-replacement",
   "metadata": {},
   "source": [
    "#### 2.2.2.2 Looping dictionaries\n",
    "\n",
    "Just like lists, you can traverse the **keys** of the dictionary by using a *for* statement.\n",
    "\n",
    "**Note:** Depending on your Python version the *for* statement will return the keys in the same order you defined them or not. Usually you should assume that keys can be sorted differently than you defined them. If you need to traverse the keys in any specific order, you can use the *built-in function* `sorted()`."
   ]
  },
  {
   "cell_type": "code",
   "execution_count": 13,
   "id": "numerous-chassis",
   "metadata": {},
   "outputs": [
    {
     "name": "stdout",
     "output_type": "stream",
     "text": [
      "starter\n",
      "main\n",
      "dessert\n"
     ]
    }
   ],
   "source": [
    "for k in menu:\n",
    "    print(k)"
   ]
  },
  {
   "cell_type": "code",
   "execution_count": 38,
   "id": "indirect-pottery",
   "metadata": {},
   "outputs": [
    {
     "name": "stdout",
     "output_type": "stream",
     "text": [
      "dessert\n",
      "main\n",
      "starter\n"
     ]
    }
   ],
   "source": [
    "for k in sorted(menu):\n",
    "    print(k)"
   ]
  },
  {
   "cell_type": "markdown",
   "id": "lightweight-modeling",
   "metadata": {},
   "source": [
    "You can use dictionaries' methods to iterate over them in different ways:\n",
    "\n",
    "- `dictionary.values()`: returns a list of all values\n",
    "- `dictionary.items()`: returns two list, the first one with keys and the second one with all values (in the same order). It's useful to iterate over both parts of the dictionary at the same time\n"
   ]
  },
  {
   "cell_type": "code",
   "execution_count": 17,
   "id": "blank-comfort",
   "metadata": {},
   "outputs": [
    {
     "name": "stdout",
     "output_type": "stream",
     "text": [
      "caesar salad\n",
      "risotto\n",
      "cheescake\n"
     ]
    }
   ],
   "source": [
    "for v in menu.values():\n",
    "    print(v)"
   ]
  },
  {
   "cell_type": "code",
   "execution_count": 14,
   "id": "biological-horror",
   "metadata": {},
   "outputs": [
    {
     "name": "stdout",
     "output_type": "stream",
     "text": [
      "Key: starter\n",
      "Value: caesar salad\n",
      "_____\n",
      "Key: main\n",
      "Value: risotto\n",
      "_____\n",
      "Key: dessert\n",
      "Value: cheescake\n",
      "_____\n"
     ]
    }
   ],
   "source": [
    "for key, value in menu.items():\n",
    "    \n",
    "    print(\"Key: {}\".format(key))\n",
    "    print(\"Value: {}\". format(value))\n",
    "    print(\"_____\")"
   ]
  },
  {
   "cell_type": "code",
   "execution_count": 21,
   "id": "prompt-lover",
   "metadata": {},
   "outputs": [
    {
     "name": "stdout",
     "output_type": "stream",
     "text": [
      "Key: starter\n",
      "Valeu: caesar salad\n",
      "_____\n",
      "Key: main\n",
      "Valeu: risotto\n",
      "_____\n",
      "Key: dessert\n",
      "Valeu: cheescake\n",
      "_____\n"
     ]
    }
   ],
   "source": [
    "for k in menu:\n",
    "    \n",
    "    print(\"Key: {}\".format(k))\n",
    "    print(\"Value: {}\". format(menu[k]))\n",
    "    print(\"_____\")"
   ]
  },
  {
   "cell_type": "markdown",
   "id": "electoral-resort",
   "metadata": {},
   "source": [
    "#### 2.2.2.3 Example: Dictionary as a Collection of Counters\n",
    "\n",
    "Create a function named `histogram()` that takes a string as a parameter and returns how many times each letter appears.\n",
    "\n",
    "**Hint 1**: An advantage of the dictionary is that we don't have to know ahead of time which letters appear in the string an we only have to make room for the letters that do appear-\n",
    "\n",
    "**Hint 2**: You can create an empty dictionary using `d= dict()` or `d={}`\n",
    "\n",
    "**Hint 3**: The method `dictionary.get(s, n)` that, given a key to look for and the default value, returns the corresponding value if the key appears in the dictionary, otherwise it returns the default value. [Check the documentation](https://docs.python.org/3.8/library/stdtypes.html#dict.get)"
   ]
  },
  {
   "cell_type": "code",
   "execution_count": 17,
   "id": "scheduled-appeal",
   "metadata": {},
   "outputs": [],
   "source": [
    "def histogram(s):\n",
    "    d = {}\n",
    "    for c in s:\n",
    "        n = d.get(c, 0) +1\n",
    "        d[c] = n\n",
    "        \n",
    "    return d\n",
    "        "
   ]
  },
  {
   "cell_type": "markdown",
   "id": "precious-aerospace",
   "metadata": {},
   "source": [
    "Now define a second function called `invert_dict()` that takes the output from `histogram()` and returns a dictionary that has the number of times a letter appears as key, and the letters themselves as value.\n",
    "\n",
    "**Hint**: Take into account that more than one letter can appear the same amount of times and keys' dictionaries must be unique. That's why the value needs to be a list of letters."
   ]
  },
  {
   "cell_type": "code",
   "execution_count": 52,
   "id": "explicit-certificate",
   "metadata": {},
   "outputs": [],
   "source": [
    "def invert_dict(d):\n",
    "    reverse_d = dict()\n",
    "    \n",
    "    for key, value in d.items():\n",
    "        if value in reverse_d:\n",
    "            reverse_d[value].append(key)\n",
    "            \n",
    "        else:\n",
    "            reverse_d[value] = [key] #A list with one item is called singleton\n",
    "            \n",
    "    return reverse_d"
   ]
  },
  {
   "cell_type": "code",
   "execution_count": 23,
   "id": "d3e152cc",
   "metadata": {},
   "outputs": [],
   "source": [
    "def invert_dict(d):\n",
    "    reverse_d = dict()\n",
    "    \n",
    "    for key, value in d.items():\n",
    "        l = reverse_d.setdefault(value,[])\n",
    "        reverse_d[value].append(key)\n",
    "            \n",
    "    return reverse_d"
   ]
  },
  {
   "cell_type": "code",
   "execution_count": 53,
   "id": "moderate-flight",
   "metadata": {},
   "outputs": [
    {
     "data": {
      "text/plain": [
       "{1: ['p', 'a', 'o', 't'], 2: ['r']}"
      ]
     },
     "execution_count": 53,
     "metadata": {},
     "output_type": "execute_result"
    }
   ],
   "source": [
    "invert_dict(histogram(\"parrot\"))"
   ]
  },
  {
   "cell_type": "code",
   "execution_count": 24,
   "id": "8227b6e1",
   "metadata": {},
   "outputs": [
    {
     "data": {
      "text/plain": [
       "{1: ['p', 'a', 'o', 't'], 2: ['r']}"
      ]
     },
     "execution_count": 24,
     "metadata": {},
     "output_type": "execute_result"
    }
   ],
   "source": [
    "invert_dict(histogram(\"parrot\"))"
   ]
  },
  {
   "cell_type": "markdown",
   "id": "single-astronomy",
   "metadata": {},
   "source": [
    "#### 2.2.2.4 Example: Reverse Lookup\n",
    "\n",
    "Given a dictionary *d* and a key *k*, it is easy to find the corresponding value (`v = d[k]`). This operation is called **lookp**\n",
    "\n",
    "But what if you have *v* and you want to find k? That's called **reverse lookup** and unfortunatelly there is no simple syntax to do it. Can you create a function called `reverse_lookup()` that takes a dictionary and a value as parameters and returns the corresponding key if it exists and `None` if doesn't?"
   ]
  },
  {
   "cell_type": "code",
   "execution_count": 43,
   "id": "brilliant-language",
   "metadata": {},
   "outputs": [],
   "source": [
    "d = {\"car\":\"coche\",\n",
    "    \"bike\": \"bici\",\n",
    "    \"motorbike\": \"moto\"}\n",
    "\n",
    "def reverse_lookup(d, v):\n",
    "    \n",
    "    for key, value in d.items():\n",
    "        if value == v:\n",
    "            return key"
   ]
  },
  {
   "cell_type": "code",
   "execution_count": null,
   "id": "5c48fb35",
   "metadata": {},
   "outputs": [],
   "source": [
    "def reverse_lookup(d, v):\n",
    "    \n",
    "    for key, value in d.items():\n",
    "        if value == v:\n",
    "            return key"
   ]
  },
  {
   "cell_type": "code",
   "execution_count": null,
   "id": "47194c27",
   "metadata": {},
   "outputs": [],
   "source": []
  },
  {
   "cell_type": "markdown",
   "id": "accepting-panic",
   "metadata": {},
   "source": [
    "#### 2.2.2.5 Example: Dictionary as Memo\n",
    "\n",
    "If you played with the `fibonacci()` function we defined previously, you might have noticed that the bigger the argument you provide, the longer the function takes to run.\n",
    "\n",
    "If we take a look into the **call graph** with n=5, we can see that we call multiple times `fibonacci(0)`, `fibonacci(1)`, `fibonacci(2)` and `fibonacci(3)`.\n",
    "\n",
    "<img src=\"https://theleo.zone/img/recursive_fib.png\" alt=\"drawing\" width=\"700\"/>\n",
    "\n",
    "Why should we compute the same operation multiple times?\n",
    "\n",
    "\n",
    "One solution to this is to keep a track of values that have already been computed by string them in a dictionary. This variables that is used to store computed values to use them later are called **memos**.\n",
    "\n",
    "Can you optimize your `fibonacci()` function with a memo?"
   ]
  },
  {
   "cell_type": "code",
   "execution_count": 60,
   "id": "motivated-bracket",
   "metadata": {},
   "outputs": [],
   "source": [
    "def fibonacci(n):\n",
    "    if n == 0:\n",
    "        return 0\n",
    "    \n",
    "    elif n == 1:\n",
    "        return 1\n",
    "    \n",
    "    else:\n",
    "        return fibonacci(n-1) + fibonacci(n-2)"
   ]
  },
  {
   "cell_type": "code",
   "execution_count": 59,
   "id": "explicit-cancer",
   "metadata": {},
   "outputs": [],
   "source": [
    "memo = {0:0,\n",
    "       1:1}\n",
    "\n",
    "def fibonacci_optimized(n):\n",
    "    if n in memo:\n",
    "        return memo[n]\n",
    "    \n",
    "    else:\n",
    "        result = fibonacci(n-1)+fibonacci(n-2)\n",
    "        memo[n] = result\n",
    "        return result"
   ]
  },
  {
   "cell_type": "code",
   "execution_count": 64,
   "id": "piano-pilot",
   "metadata": {},
   "outputs": [
    {
     "data": {
      "text/plain": [
       "9227465"
      ]
     },
     "execution_count": 64,
     "metadata": {},
     "output_type": "execute_result"
    }
   ],
   "source": [
    "fibonacci(35)"
   ]
  },
  {
   "cell_type": "code",
   "execution_count": 65,
   "id": "stock-torture",
   "metadata": {},
   "outputs": [
    {
     "data": {
      "text/plain": [
       "9227465"
      ]
     },
     "execution_count": 65,
     "metadata": {},
     "output_type": "execute_result"
    }
   ],
   "source": [
    "fibonacci_optimized(35)"
   ]
  },
  {
   "cell_type": "markdown",
   "id": "antique-peripheral",
   "metadata": {},
   "source": [
    "## Exercice break\n",
    "<img src=\"data:image/jpeg;base64,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\" alt=\"drawing\" width=\"250\"/>\n",
    "\n",
    "\n",
    "##### Exercice 1: Read the documentation of the dictionary method *satdefaul* and use it to wirte more concise version of invert_dict\n",
    "Original function: \n",
    "```\n",
    "def invert_dict(d):\n",
    "    reverse_d = dict()\n",
    "    \n",
    "    for key, value in d.items():\n",
    "        if value in reverse_d:\n",
    "            reverse_d[value].append(key)\n",
    "            \n",
    "        else:\n",
    "            reverse_d[value] = [key] #A list with one item is called singleton\n",
    "            \n",
    "    return reverse_d\n",
    "```\n",
    "\n",
    "##### Exercice 2:  Write a function that takes a list as parameter and returns *True* if there is any object that appears more than once in the list.\n"
   ]
  },
  {
   "cell_type": "code",
   "execution_count": 89,
   "id": "vocal-gilbert",
   "metadata": {},
   "outputs": [],
   "source": [
    "## Exercice 1\n",
    "def invert_dict(d):\n",
    "    reverse_d = dict()\n",
    "    \n",
    "    for key, value in d.items():\n",
    "        \n",
    "        reverse_d.setdefault(value, []).append(key)\n",
    "        \n",
    "    return reverse_d\n",
    "\n",
    "d = {\"a\":1,\n",
    "    \"b\":1,\n",
    "    \"c\":2,\n",
    "    \"d\":3,\n",
    "    \"e\":1,\n",
    "    \"f\":2}\n",
    "\n",
    "invert_dict(d)\n",
    "        "
   ]
  },
  {
   "cell_type": "code",
   "execution_count": 106,
   "id": "rocky-corps",
   "metadata": {},
   "outputs": [],
   "source": [
    "## Exercice 2\n",
    "\n",
    "def has_duplicates(t):\n",
    "\n",
    "    d = {}\n",
    "    for x in t:\n",
    "        if x in d:\n",
    "            return True\n",
    "        d[x] = True\n",
    "    return False    \n",
    "    \n",
    "has_duplicates([\"l\",\"b\"])"
   ]
  },
  {
   "cell_type": "markdown",
   "id": "equipped-probability",
   "metadata": {},
   "source": [
    "### 2.2.3 Tuples\n",
    "\n",
    "A tuple, like a list, is a sequence of values. The most importat difference is that **tuples are immutable**\n",
    "\n",
    "You could define a tuple like this:\n",
    "```\n",
    ">>> tup = \"a\", \"b\", \"c\", \"d\", \"e\"\n",
    "```\n",
    "\n",
    "But is highly recommended to enclose tuples in parentheses to improve readability:\n",
    "```\n",
    ">>> tup = (\"a\", \"b\", \"c\", \"d\", \"e\")\n",
    "```\n",
    "\n",
    "Note that to define a single element tuple you need to include a final comma, if not Python will consider it as a string\n",
    "\n",
    "```\n",
    ">>> tup = \"a\", \n",
    ">>> tup = (\"a\",)\n",
    "```\n",
    "\n",
    "Another way to defina a tuple is using the *build-in* function `tuple()`. Note that if the argument is a sequence (string, list or tuple), the result is a tuple with the elements of the sequence:\n",
    "\n",
    "```\n",
    ">>> tup = tuple(\"banana\")\n",
    ">>> tup\n",
    "(\"b\",\"a\",\"n\",\"a\",\"n\",\"a\")\n",
    "```"
   ]
  },
  {
   "cell_type": "code",
   "execution_count": 108,
   "id": "fatal-belarus",
   "metadata": {},
   "outputs": [
    {
     "data": {
      "text/plain": [
       "('b', 'a', 'n', 'a', 'n', 'a')"
      ]
     },
     "execution_count": 108,
     "metadata": {},
     "output_type": "execute_result"
    }
   ],
   "source": [
    "tuple(\"banana\")"
   ]
  },
  {
   "cell_type": "markdown",
   "id": "confident-queue",
   "metadata": {},
   "source": [
    "#### 2.2.3.1 Tuple assignment\n",
    "\n",
    "Imagine you need to swap values from two variables (variable a needs to have variable b's value and variable b needs to have variable a's value). Based on what we've seen until now we would need to do something like this:\n",
    "\n",
    "```\n",
    "#temporal variable to store a's value before reasignment\n",
    "temp_variable = a \n",
    ">>> a = b\n",
    ">>> b = temp_variable\n",
    "```\n",
    "\n",
    "But with tumples we have something better (tuple assignment):\n",
    "\n",
    "```\n",
    ">>> a, b = b, a\n",
    "\n",
    "#equivalent to previous line\n",
    ">>> a, b = (b, a)\n",
    "```\n",
    "\n",
    "Actually, you already used tuple assignment whe we use the dictionary method `.items()`\n",
    "\n",
    "Using the same logic, we can return **multiple values** from a single function:\n",
    "\n",
    "```\n",
    ">>> def division_and_modulus(a,b):\n",
    "\n",
    "        div = a//b\n",
    "        mod = a%2\n",
    "\n",
    "        return div, mod\n",
    "    \n",
    ">>> x, y = division_and_modulus(5,2)\n",
    "```"
   ]
  },
  {
   "cell_type": "markdown",
   "id": "cardiovascular-latitude",
   "metadata": {},
   "source": [
    "#### 2.2.3.2 How to iterate multiple sequences: the zip function\n",
    "\n",
    "**zip** is a *built-in* function that takes two or more sequences and returns a list of tuples where each tuple contains one element from each sequence.\n",
    "\n",
    "The output of this function is a **zip object** that knows how to iterate through the pairs, the most common use is in a *for* loop:\n",
    "\n",
    "```\n",
    ">>> a = \"abc\"\n",
    ">>> b = [0,1,2]\n",
    "\n",
    ">>> for par in zip(a, b):\n",
    "        print(pair)\n",
    "        \n",
    "   ('a', 0)\n",
    "   ('b', 1)\n",
    "   ('c', 2)\n",
    "   \n",
    "# Combine zip with tuple assignment\n",
    ">>> for x, y in zip(a, b):\n",
    "        print(\"{} - {}\".format(x,str(y)))\n",
    "        \n",
    "   a-0\n",
    "   b-1\n",
    "   c-2\n",
    "```\n",
    "\n",
    "Zip object is a kind of **iterator**, which is any object that iterates through a sequence, their particularity is that you **can not use an index to select an elemet from them**. If you need to do that, you would need to transform the iterator to a list using the *built-in* function `list()`"
   ]
  },
  {
   "cell_type": "code",
   "execution_count": 4,
   "id": "funded-abraham",
   "metadata": {
    "scrolled": true
   },
   "outputs": [
    {
     "name": "stdout",
     "output_type": "stream",
     "text": [
      "Renault in blue\n",
      "Seat in red\n",
      "Audi in black\n"
     ]
    }
   ],
   "source": [
    "cars = [\"Renault\", \"Seat\", \"Audi\"]\n",
    "colors = [\"Blue\", \"Red\", \"Black\", \"Green\"]\n",
    "\n",
    "#Note that Green is not zipped\n",
    "for car, color in zip(cars, colors):\n",
    "    print(\"{} in {}\".format(car, color.lower()))"
   ]
  },
  {
   "cell_type": "markdown",
   "id": "intellectual-romantic",
   "metadata": {},
   "source": [
    "#### 2.2.3.4 Dictionaries and tuples\n",
    "\n",
    "You can use a list of tuples to initialize a new dictionary:\n",
    "\n",
    "```\n",
    ">>> t = [(\"a\",0), (\"b\",1), (\"c\",2)]\n",
    ">>> d = dict(t)\n",
    ">>> d\n",
    "    {\"a\":0, \"b\":1, \"c\":2}\n",
    "```\n",
    "\n",
    "With that, you can create dictionaries based on two lists (or iterators) by combining *built-in* functions *dict* and *zip*"
   ]
  },
  {
   "cell_type": "code",
   "execution_count": 6,
   "id": "simple-camcorder",
   "metadata": {},
   "outputs": [
    {
     "data": {
      "text/plain": [
       "{0: 'p', 1: 'a', 2: 'r', 3: 'r', 4: 'o', 5: 't'}"
      ]
     },
     "execution_count": 6,
     "metadata": {},
     "output_type": "execute_result"
    }
   ],
   "source": [
    "l = \"parrot\"\n",
    "d = dict(zip(range(len(l)), l))\n",
    "d"
   ]
  },
  {
   "cell_type": "markdown",
   "id": "solar-marijuana",
   "metadata": {},
   "source": [
    "Another common interaction between this two data types is the usage of tuples as keys in dictionaries. As we've seen, dictionaries need inmutable variables as keys, so if we need to use a **sequence as key** most probably we will need to work with tuples.\n",
    "\n",
    "Imagine you need to create a dictionary with cardinal points as key and city names as value:"
   ]
  },
  {
   "cell_type": "code",
   "execution_count": 7,
   "id": "destroyed-blade",
   "metadata": {},
   "outputs": [],
   "source": [
    "cities = dict()\n",
    "cities[41.39, 2.17] = \"Barcelona\"\n",
    "cities[40.42, -3.71] = \"Madrid\"\n",
    "cities[-15.80, -47.89] = \"Brasília\"\n",
    "cities[-22.91, -43.19] = \"Rio de Janeiro\""
   ]
  },
  {
   "cell_type": "markdown",
   "id": "recovered-reducing",
   "metadata": {},
   "source": [
    "#### 2.2.3.5 Tuples vs Lists\n",
    "\n",
    "As you probably have seen, list and tuples are similar. Actually most of the methods that work for one work for the other too. Although lists are more common that tuples (mutability is more useful most of the times), there are some scenarios where you will need tuples:\n",
    "\n",
    "- In *return* statements, it's easy to assign multiple values to multiple variables\n",
    "- If you need to pass a sequence as an argument to a function (you won't need to take care of aliasing)\n",
    "- If you need to use a sequence as a dictionary key"
   ]
  },
  {
   "cell_type": "code",
   "execution_count": 30,
   "id": "employed-consistency",
   "metadata": {},
   "outputs": [],
   "source": [
    "#Case 1.a: Return multiple values using tuple as output\n",
    "\n",
    "def list_output(n):\n",
    "    \n",
    "    a = n**2\n",
    "    b = n**(1/2)\n",
    "    c = n%2\n",
    "    \n",
    "    return a, b, c\n",
    "\n",
    "x, y, z = list_output(5)"
   ]
  },
  {
   "cell_type": "code",
   "execution_count": 29,
   "id": "swiss-blogger",
   "metadata": {},
   "outputs": [],
   "source": [
    "#Case 1.b: return multiple values using list as output. As you can see it works too, but is a convention to use tuples\n",
    "\n",
    "def list_output(n):\n",
    "    \n",
    "    a = n**2\n",
    "    b = n**(1/2)\n",
    "    c = n%2\n",
    "    \n",
    "    return [a, b, c]\n",
    "\n",
    "x, y, z = list_output(5)"
   ]
  },
  {
   "cell_type": "code",
   "execution_count": 38,
   "id": "assumed-burke",
   "metadata": {},
   "outputs": [
    {
     "name": "stdout",
     "output_type": "stream",
     "text": [
      "('B', 'C', 'D')\n",
      "('B', 'C', 'D', 'A')\n"
     ]
    }
   ],
   "source": [
    "#Case 2.b: Pass argument to a function\n",
    "\n",
    "def function_list(inp):\n",
    "    \n",
    "    inp = inp + (\"A\",)\n",
    "    return inp\n",
    "\n",
    "t0 = (\"B\",\"C\",\"D\")\n",
    "t1 = function_list(t0)\n",
    "print(t0)\n",
    "print(t1)"
   ]
  },
  {
   "cell_type": "code",
   "execution_count": 39,
   "id": "exterior-flesh",
   "metadata": {},
   "outputs": [
    {
     "name": "stdout",
     "output_type": "stream",
     "text": [
      "['B', 'C', 'D', 'A']\n",
      "['B', 'C', 'D', 'A']\n"
     ]
    }
   ],
   "source": [
    "#Case 2.b: Pass argument to a function\n",
    "\n",
    "def function_list(inp):\n",
    "    \n",
    "    inp.append(\"A\")\n",
    "    return inp\n",
    "\n",
    "t0 = [\"B\",\"C\",\"D\"]\n",
    "t1 = function_list(t0)\n",
    "print(t0)\n",
    "print(t1)"
   ]
  },
  {
   "cell_type": "markdown",
   "id": "hearing-terry",
   "metadata": {},
   "source": [
    "### 2.2.4 Sets\n",
    "\n",
    "A set is a collection of unique elements, where duplicates are automatically removed. Sets are defined using curly braces {} or the set function.\n",
    "\n",
    "You could define a tuple like this:\n",
    "```\n",
    ">>> s = {\"a\", \"b\", \"c\", \"d\", \"e\"}\n",
    ">>> s = set(\"a\", \"b\", \"c\", \"d\", \"e\")\n",
    "```\n",
    "\n",
    "Sets are **mutable**, like lists but **unordered** like dictionaries (that means that you can not use indexin neither).\n",
    "\n",
    "Because of their particularity of having unique elements, sets are useful **data operations** such as removing duplicates and finding intersection or differences from other sequences."
   ]
  },
  {
   "cell_type": "code",
   "execution_count": 108,
   "id": "final-roots",
   "metadata": {},
   "outputs": [
    {
     "ename": "TypeError",
     "evalue": "unhashable type: 'dict'",
     "output_type": "error",
     "traceback": [
      "\u001b[1;31m---------------------------------------------------------------------------\u001b[0m",
      "\u001b[1;31mTypeError\u001b[0m                                 Traceback (most recent call last)",
      "\u001b[1;32m<ipython-input-108-285610289a83>\u001b[0m in \u001b[0;36m<module>\u001b[1;34m\u001b[0m\n\u001b[1;32m----> 1\u001b[1;33m \u001b[0md\u001b[0m \u001b[1;33m=\u001b[0m \u001b[1;33m{\u001b[0m\u001b[1;33m{\u001b[0m\u001b[1;34m\"a\"\u001b[0m\u001b[1;33m:\u001b[0m\u001b[1;36m1\u001b[0m\u001b[1;33m}\u001b[0m\u001b[1;33m:\u001b[0m\u001b[1;36m2\u001b[0m\u001b[1;33m}\u001b[0m\u001b[1;33m\u001b[0m\u001b[1;33m\u001b[0m\u001b[0m\n\u001b[0m",
      "\u001b[1;31mTypeError\u001b[0m: unhashable type: 'dict'"
     ]
    }
   ],
   "source": [
    "d = {{\"a\":1}:2}"
   ]
  },
  {
   "cell_type": "code",
   "execution_count": 60,
   "id": "mature-repair",
   "metadata": {},
   "outputs": [
    {
     "data": {
      "text/plain": [
       "set"
      ]
     },
     "execution_count": 60,
     "metadata": {},
     "output_type": "execute_result"
    }
   ],
   "source": [
    "s = {\"a\", \"b\", \"c\", \"d\", \"e\"}\n",
    "type(s)"
   ]
  },
  {
   "cell_type": "markdown",
   "id": "varying-manor",
   "metadata": {},
   "source": [
    "#### 1.7.4.1 Operations\n",
    "\n",
    "There are some operations that are specific for sets:\n",
    "\n",
    " - Union: The union of two sets is a set that contains all the elements of both sets. You can use the union method to find the union of two sets:\n",
    "```\n",
    ">>> set_a = {1, 2, 3}\n",
    ">>> set_b = {3, 4, 5}\n",
    ">>> set_a.union(set_b)\n",
    "    {1, 2, 3, 4, 5}\n",
    "```\n",
    " - Intersection: The intersection of two sets is a set that contains only the elements that are common to both sets. You can use the intersection method to find the intersection of two sets:\n",
    "```\n",
    ">>> set_a = {1, 2, 3}\n",
    ">>> set_b = {3, 4, 5}\n",
    ">>> set_a.intersection(set_b)\n",
    "{3}\n",
    "```\n",
    "\n",
    " - Difference: The difference of two sets is a set that contains the elements that are in the first set but not in the second set. You can use the difference method to find the difference of two sets:\n",
    "```\n",
    ">>> set_a = {1, 2, 3}\n",
    ">>> set_b = {3, 4, 5}\n",
    ">>> set_a.difference(set_b)\n",
    "{1, 2}\n",
    "```\n",
    "\n",
    " - Symmetric Difference: The symmetric difference of two sets is a set that contains the elements that are in either set but not in both sets. You can use the symmetric_difference method to find the symmetric difference of two sets:\n",
    "```\n",
    ">>> set_a = {1, 2, 3}\n",
    ">>> set_b = {3, 4, 5}\n",
    ">>> set_a.symmetric_difference(set_b)\n",
    "{1, 2, 4, 5}\n",
    "```"
   ]
  },
  {
   "cell_type": "code",
   "execution_count": null,
   "id": "weekly-child",
   "metadata": {},
   "outputs": [],
   "source": []
  },
  {
   "cell_type": "markdown",
   "id": "consecutive-death",
   "metadata": {},
   "source": [
    "## Exercice break\n",
    "<img src=\"data:image/jpeg;base64,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\" alt=\"drawing\" width=\"250\"/>\n",
    "\n",
    "\n",
    "##### Exercice 1: Write a function that takes a string and prints the letters in decreasing order of frequency. You can use the function created in *1.7.2.3*:\n",
    "\n",
    "```\n",
    "def histogram(s):\n",
    "    d = {}\n",
    "    for c in s:\n",
    "        n = d.get(c, 0) +1\n",
    "        d[c] = n\n",
    "        \n",
    "    return d\n",
    "```\n",
    "\n",
    "##### Exercice 2: Write athat takes two strings and returns ONLY the letters that appear in both strings with the same frequency."
   ]
  },
  {
   "cell_type": "code",
   "execution_count": null,
   "id": "every-rating",
   "metadata": {},
   "outputs": [],
   "source": []
  },
  {
   "cell_type": "code",
   "execution_count": 54,
   "id": "outstanding-promise",
   "metadata": {
    "scrolled": false
   },
   "outputs": [
    {
     "name": "stdout",
     "output_type": "stream",
     "text": [
      "r\n",
      "t\n",
      "p\n",
      "o\n",
      "a\n"
     ]
    }
   ],
   "source": [
    "def histogram(s):\n",
    "    d = {}\n",
    "    for c in s:\n",
    "        n = d.get(c, 0) +1\n",
    "        d[c] = n\n",
    "\n",
    "    return d\n",
    "\n",
    "def most_frequent(s):\n",
    "    \n",
    "    #Get dictionary {freq:[characters]}\n",
    "    hist = histogram(s)\n",
    "    \n",
    "    #this list will be used to store characters and sort them by frequency\n",
    "    l = []\n",
    "    for key, value in hist.items():\n",
    "        \n",
    "        l.append((value, key))\n",
    "        \n",
    "    l.sort(reverse=True)\n",
    "    \n",
    "    for freq, char in l:\n",
    "        print(char)\n",
    "\n",
    "most_frequent(\"parrot\")"
   ]
  },
  {
   "cell_type": "code",
   "execution_count": 91,
   "id": "suffering-jungle",
   "metadata": {},
   "outputs": [],
   "source": [
    "def most_frequent(s):\n",
    "    \n",
    "    #Get dictionary {freq:[characters]}\n",
    "    hist = histogram(s)\n",
    "    \n",
    "    #this list will be used to store characters and sort them by frequency\n",
    "    l = []\n",
    "    for key, value in hist.items():\n",
    "        \n",
    "        l.append((value, key))\n",
    "        \n",
    "    l.sort(reverse=True)\n",
    "        \n",
    "    return l"
   ]
  },
  {
   "cell_type": "code",
   "execution_count": null,
   "id": "49cddc15",
   "metadata": {},
   "outputs": [],
   "source": [
    "def ordenar_frecuencia(s):\n",
    "    \n",
    "    #Sacamos dicionarion con la frecuencia {freq:[letras]}\n",
    "    hist = histogram(s)\n",
    "    \n",
    "    l = list()\n",
    "    for _____, ____ in hist.items():\n",
    "        \n",
    "        ______\n",
    "        \n",
    "    ___.sort(_____)\n",
    "    return ______"
   ]
  },
  {
   "cell_type": "code",
   "execution_count": 93,
   "id": "weighted-offense",
   "metadata": {},
   "outputs": [
    {
     "data": {
      "text/plain": [
       "[(2, 'r'), (1, 't'), (1, 'p'), (1, 'o'), (1, 'a')]"
      ]
     },
     "execution_count": 93,
     "metadata": {},
     "output_type": "execute_result"
    }
   ],
   "source": [
    "most_frequent(\"parrot\")"
   ]
  },
  {
   "cell_type": "code",
   "execution_count": 94,
   "id": "stretch-exhibition",
   "metadata": {},
   "outputs": [
    {
     "data": {
      "text/plain": [
       "{(1, 'a'), (1, 'o'), (1, 't'), (2, 'r')}"
      ]
     },
     "execution_count": 94,
     "metadata": {},
     "output_type": "execute_result"
    }
   ],
   "source": [
    "def most_frequent(s):\n",
    "    \n",
    "    #Get dictionary {freq:[characters]}\n",
    "    hist = histogram(s)\n",
    "    \n",
    "    #this list will be used to store characters and sort them by frequency\n",
    "    l = []\n",
    "    for key, value in hist.items():\n",
    "        \n",
    "        l.append((value, key))\n",
    "        \n",
    "    l.sort(reverse=True)\n",
    "        \n",
    "    return l\n",
    "        \n",
    "\n",
    "def most_frequent_two(s1, s2):\n",
    "    \n",
    "    set1 = set(most_frequent(s1))\n",
    "    set2 = set(most_frequent(s2))\n",
    "    \n",
    "    return set1.intersection(set2)\n",
    "\n",
    "most_frequent_two(\"parrot\", \"carrot\")"
   ]
  },
  {
   "cell_type": "code",
   "execution_count": 97,
   "id": "healthy-newark",
   "metadata": {},
   "outputs": [
    {
     "name": "stdout",
     "output_type": "stream",
     "text": [
      "['b', 1, 2, True, False, <built-in function len>]\n"
     ]
    }
   ],
   "source": [
    "l = [\"a\", \"b\", 1, 2, True, False, len]\n",
    "\n",
    "for val in l:\n",
    "    if type(val)==str:\n",
    "        l.remove(val)\n",
    "        \n",
    "print(l)"
   ]
  },
  {
   "cell_type": "code",
   "execution_count": 106,
   "id": "posted-treatment",
   "metadata": {
    "scrolled": true
   },
   "outputs": [
    {
     "data": {
      "text/plain": [
       "{'B', 'R'}"
      ]
     },
     "execution_count": 106,
     "metadata": {},
     "output_type": "execute_result"
    }
   ],
   "source": [
    "set_one = set(\"Root\")\n",
    "set_two = set(\"Boot\")\n",
    "\n",
    "set_one.symmetric_difference(set_two)"
   ]
  },
  {
   "cell_type": "code",
   "execution_count": 101,
   "id": "retained-child",
   "metadata": {},
   "outputs": [
    {
     "data": {
      "text/plain": [
       "{'P', 'e', 'k', 'm', 'n', 'o'}"
      ]
     },
     "execution_count": 101,
     "metadata": {},
     "output_type": "execute_result"
    }
   ],
   "source": [
    "set_one"
   ]
  },
  {
   "cell_type": "code",
   "execution_count": null,
   "id": "b58a9b9b",
   "metadata": {},
   "outputs": [],
   "source": [
    "### list_a = [1,2,3]\n",
    "list_b = [1,2,3]\n",
    "\n",
    "list_a is list_b"
   ]
  }
 ],
 "metadata": {
  "kernelspec": {
   "display_name": "Python 3 (ipykernel)",
   "language": "python",
   "name": "python3"
  },
  "language_info": {
   "codemirror_mode": {
    "name": "ipython",
    "version": 3
   },
   "file_extension": ".py",
   "mimetype": "text/x-python",
   "name": "python",
   "nbconvert_exporter": "python",
   "pygments_lexer": "ipython3",
   "version": "3.9.13"
  }
 },
 "nbformat": 4,
 "nbformat_minor": 5
}
